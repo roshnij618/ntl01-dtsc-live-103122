{
 "cells": [
  {
   "cell_type": "markdown",
   "metadata": {
    "index": 0
   },
   "source": [
    "# Phase 4 Code Challenge Review\n",
    "\n",
    "Made using resources that Max put together, thanks Max!"
   ]
  },
  {
   "cell_type": "markdown",
   "metadata": {},
   "source": [
    "## Overview\n",
    "\n",
    "- Principal Component Analysis\n",
    "- Clustering\n",
    "- Time Series\n",
    "- Natural Language Processing"
   ]
  },
  {
   "cell_type": "code",
<<<<<<< HEAD:4Phase/P4-Code-Challenge-Review.ipynb
   "execution_count": 2,
=======
   "execution_count": 1,
>>>>>>> upstream/main:4Phase/P4-Code-Challenge-Review_blank.ipynb
   "metadata": {},
   "outputs": [],
   "source": [
    "# Basic Imports\n",
    "import pandas as pd\n",
    "import numpy as np\n",
    "import matplotlib.pyplot as plt"
   ]
  },
  {
<<<<<<< HEAD:4Phase/P4-Code-Challenge-Review.ipynb
=======
   "cell_type": "code",
   "execution_count": 2,
   "metadata": {},
   "outputs": [
    {
     "ename": "ModuleNotFoundError",
     "evalue": "No module named 'src'",
     "output_type": "error",
     "traceback": [
      "\u001b[0;31m---------------------------------------------------------------------------\u001b[0m",
      "\u001b[0;31mModuleNotFoundError\u001b[0m                       Traceback (most recent call last)",
      "\u001b[0;32m<ipython-input-2-89ab750c2ef8>\u001b[0m in \u001b[0;36m<module>\u001b[0;34m\u001b[0m\n\u001b[0;32m----> 1\u001b[0;31m \u001b[0;32mfrom\u001b[0m \u001b[0msrc\u001b[0m\u001b[0;34m.\u001b[0m\u001b[0mcall\u001b[0m \u001b[0;32mimport\u001b[0m \u001b[0mcall_on_students\u001b[0m\u001b[0;34m\u001b[0m\u001b[0;34m\u001b[0m\u001b[0m\n\u001b[0m",
      "\u001b[0;31mModuleNotFoundError\u001b[0m: No module named 'src'"
     ]
    }
   ],
   "source": [
    "from src.call import call_on_students"
   ]
  },
  {
>>>>>>> upstream/main:4Phase/P4-Code-Challenge-Review_blank.ipynb
   "cell_type": "markdown",
   "metadata": {},
   "source": [
    "# 1) Principal Component Analysis\n",
    "\n",
    "![pca gif saved from learnco](images/pca.gif)"
   ]
  },
  {
   "cell_type": "markdown",
   "metadata": {},
   "source": [
    "## PCA Concepts"
   ]
  },
  {
   "cell_type": "markdown",
   "metadata": {},
   "source": [
    "### 1: What does PCA do? \n",
    "\n",
    "Specifically, describe what the first principal component represents in relation to the original data."
   ]
  },
  {
   "cell_type": "markdown",
   "metadata": {},
   "source": [
    "#### Answer: \n",
    "\n",
    "- PCA reduces the dimensionality/multicollinearity of a dataset\n",
    "- The first principal component\n"
   ]
  },
  {
   "cell_type": "markdown",
   "metadata": {},
   "source": [
    "### 2: What are some reasons to use PCA?"
   ]
  },
  {
   "cell_type": "markdown",
   "metadata": {},
   "source": [
    "#### Answer: \n",
    "\n",
    "- \n"
   ]
  },
  {
   "cell_type": "markdown",
   "metadata": {},
   "source": [
    "### 3: Why is scaling important for PCA?"
   ]
  },
  {
   "cell_type": "markdown",
   "metadata": {},
   "source": [
    "#### Answer: \n",
    "\n",
    "- \n"
   ]
  },
  {
   "cell_type": "markdown",
   "metadata": {},
   "source": [
    "### 4: How can one determine how many principle components to use in a model?"
   ]
  },
  {
   "cell_type": "markdown",
   "metadata": {},
   "source": [
    "#### Answer: \n",
    "\n",
    "- \n"
   ]
  },
  {
   "cell_type": "markdown",
   "metadata": {
    "index": 16
   },
   "source": [
    "## PCA in Code\n",
    "\n",
    "### Set Up"
   ]
  },
  {
   "cell_type": "code",
   "execution_count": 4,
   "metadata": {
    "index": 17
   },
   "outputs": [
    {
     "data": {
      "text/html": [
       "<div>\n",
       "<style scoped>\n",
       "    .dataframe tbody tr th:only-of-type {\n",
       "        vertical-align: middle;\n",
       "    }\n",
       "\n",
       "    .dataframe tbody tr th {\n",
       "        vertical-align: top;\n",
       "    }\n",
       "\n",
       "    .dataframe thead th {\n",
       "        text-align: right;\n",
       "    }\n",
       "</style>\n",
       "<table border=\"1\" class=\"dataframe\">\n",
       "  <thead>\n",
       "    <tr style=\"text-align: right;\">\n",
       "      <th></th>\n",
       "      <th>mean radius</th>\n",
       "      <th>mean texture</th>\n",
       "      <th>mean perimeter</th>\n",
       "      <th>mean area</th>\n",
       "      <th>mean smoothness</th>\n",
       "      <th>mean compactness</th>\n",
       "      <th>mean concavity</th>\n",
       "      <th>mean concave points</th>\n",
       "      <th>mean symmetry</th>\n",
       "      <th>mean fractal dimension</th>\n",
       "      <th>...</th>\n",
       "      <th>worst radius</th>\n",
       "      <th>worst texture</th>\n",
       "      <th>worst perimeter</th>\n",
       "      <th>worst area</th>\n",
       "      <th>worst smoothness</th>\n",
       "      <th>worst compactness</th>\n",
       "      <th>worst concavity</th>\n",
       "      <th>worst concave points</th>\n",
       "      <th>worst symmetry</th>\n",
       "      <th>worst fractal dimension</th>\n",
       "    </tr>\n",
       "  </thead>\n",
       "  <tbody>\n",
       "    <tr>\n",
       "      <th>0</th>\n",
       "      <td>17.99</td>\n",
       "      <td>10.38</td>\n",
       "      <td>122.80</td>\n",
       "      <td>1001.0</td>\n",
       "      <td>0.11840</td>\n",
       "      <td>0.27760</td>\n",
       "      <td>0.3001</td>\n",
       "      <td>0.14710</td>\n",
       "      <td>0.2419</td>\n",
       "      <td>0.07871</td>\n",
       "      <td>...</td>\n",
       "      <td>25.38</td>\n",
       "      <td>17.33</td>\n",
       "      <td>184.60</td>\n",
       "      <td>2019.0</td>\n",
       "      <td>0.1622</td>\n",
       "      <td>0.6656</td>\n",
       "      <td>0.7119</td>\n",
       "      <td>0.2654</td>\n",
       "      <td>0.4601</td>\n",
       "      <td>0.11890</td>\n",
       "    </tr>\n",
       "    <tr>\n",
       "      <th>1</th>\n",
       "      <td>20.57</td>\n",
       "      <td>17.77</td>\n",
       "      <td>132.90</td>\n",
       "      <td>1326.0</td>\n",
       "      <td>0.08474</td>\n",
       "      <td>0.07864</td>\n",
       "      <td>0.0869</td>\n",
       "      <td>0.07017</td>\n",
       "      <td>0.1812</td>\n",
       "      <td>0.05667</td>\n",
       "      <td>...</td>\n",
       "      <td>24.99</td>\n",
       "      <td>23.41</td>\n",
       "      <td>158.80</td>\n",
       "      <td>1956.0</td>\n",
       "      <td>0.1238</td>\n",
       "      <td>0.1866</td>\n",
       "      <td>0.2416</td>\n",
       "      <td>0.1860</td>\n",
       "      <td>0.2750</td>\n",
       "      <td>0.08902</td>\n",
       "    </tr>\n",
       "    <tr>\n",
       "      <th>2</th>\n",
       "      <td>19.69</td>\n",
       "      <td>21.25</td>\n",
       "      <td>130.00</td>\n",
       "      <td>1203.0</td>\n",
       "      <td>0.10960</td>\n",
       "      <td>0.15990</td>\n",
       "      <td>0.1974</td>\n",
       "      <td>0.12790</td>\n",
       "      <td>0.2069</td>\n",
       "      <td>0.05999</td>\n",
       "      <td>...</td>\n",
       "      <td>23.57</td>\n",
       "      <td>25.53</td>\n",
       "      <td>152.50</td>\n",
       "      <td>1709.0</td>\n",
       "      <td>0.1444</td>\n",
       "      <td>0.4245</td>\n",
       "      <td>0.4504</td>\n",
       "      <td>0.2430</td>\n",
       "      <td>0.3613</td>\n",
       "      <td>0.08758</td>\n",
       "    </tr>\n",
       "    <tr>\n",
       "      <th>3</th>\n",
       "      <td>11.42</td>\n",
       "      <td>20.38</td>\n",
       "      <td>77.58</td>\n",
       "      <td>386.1</td>\n",
       "      <td>0.14250</td>\n",
       "      <td>0.28390</td>\n",
       "      <td>0.2414</td>\n",
       "      <td>0.10520</td>\n",
       "      <td>0.2597</td>\n",
       "      <td>0.09744</td>\n",
       "      <td>...</td>\n",
       "      <td>14.91</td>\n",
       "      <td>26.50</td>\n",
       "      <td>98.87</td>\n",
       "      <td>567.7</td>\n",
       "      <td>0.2098</td>\n",
       "      <td>0.8663</td>\n",
       "      <td>0.6869</td>\n",
       "      <td>0.2575</td>\n",
       "      <td>0.6638</td>\n",
       "      <td>0.17300</td>\n",
       "    </tr>\n",
       "    <tr>\n",
       "      <th>4</th>\n",
       "      <td>20.29</td>\n",
       "      <td>14.34</td>\n",
       "      <td>135.10</td>\n",
       "      <td>1297.0</td>\n",
       "      <td>0.10030</td>\n",
       "      <td>0.13280</td>\n",
       "      <td>0.1980</td>\n",
       "      <td>0.10430</td>\n",
       "      <td>0.1809</td>\n",
       "      <td>0.05883</td>\n",
       "      <td>...</td>\n",
       "      <td>22.54</td>\n",
       "      <td>16.67</td>\n",
       "      <td>152.20</td>\n",
       "      <td>1575.0</td>\n",
       "      <td>0.1374</td>\n",
       "      <td>0.2050</td>\n",
       "      <td>0.4000</td>\n",
       "      <td>0.1625</td>\n",
       "      <td>0.2364</td>\n",
       "      <td>0.07678</td>\n",
       "    </tr>\n",
       "  </tbody>\n",
       "</table>\n",
       "<p>5 rows × 30 columns</p>\n",
       "</div>"
      ],
      "text/plain": [
       "   mean radius  mean texture  mean perimeter  mean area  mean smoothness  \\\n",
       "0        17.99         10.38          122.80     1001.0          0.11840   \n",
       "1        20.57         17.77          132.90     1326.0          0.08474   \n",
       "2        19.69         21.25          130.00     1203.0          0.10960   \n",
       "3        11.42         20.38           77.58      386.1          0.14250   \n",
       "4        20.29         14.34          135.10     1297.0          0.10030   \n",
       "\n",
       "   mean compactness  mean concavity  mean concave points  mean symmetry  \\\n",
       "0           0.27760          0.3001              0.14710         0.2419   \n",
       "1           0.07864          0.0869              0.07017         0.1812   \n",
       "2           0.15990          0.1974              0.12790         0.2069   \n",
       "3           0.28390          0.2414              0.10520         0.2597   \n",
       "4           0.13280          0.1980              0.10430         0.1809   \n",
       "\n",
       "   mean fractal dimension  ...  worst radius  worst texture  worst perimeter  \\\n",
       "0                 0.07871  ...         25.38          17.33           184.60   \n",
       "1                 0.05667  ...         24.99          23.41           158.80   \n",
       "2                 0.05999  ...         23.57          25.53           152.50   \n",
       "3                 0.09744  ...         14.91          26.50            98.87   \n",
       "4                 0.05883  ...         22.54          16.67           152.20   \n",
       "\n",
       "   worst area  worst smoothness  worst compactness  worst concavity  \\\n",
       "0      2019.0            0.1622             0.6656           0.7119   \n",
       "1      1956.0            0.1238             0.1866           0.2416   \n",
       "2      1709.0            0.1444             0.4245           0.4504   \n",
       "3       567.7            0.2098             0.8663           0.6869   \n",
       "4      1575.0            0.1374             0.2050           0.4000   \n",
       "\n",
       "   worst concave points  worst symmetry  worst fractal dimension  \n",
       "0                0.2654          0.4601                  0.11890  \n",
       "1                0.1860          0.2750                  0.08902  \n",
       "2                0.2430          0.3613                  0.08758  \n",
       "3                0.2575          0.6638                  0.17300  \n",
       "4                0.1625          0.2364                  0.07678  \n",
       "\n",
       "[5 rows x 30 columns]"
      ]
     },
     "execution_count": 4,
     "metadata": {},
     "output_type": "execute_result"
    }
   ],
   "source": [
    "from sklearn.datasets import  load_breast_cancer\n",
    "\n",
    "data = load_breast_cancer()\n",
    "X = pd.DataFrame(data['data'], columns = data['feature_names'])\n",
    "X.head()"
   ]
  },
  {
   "cell_type": "markdown",
   "metadata": {},
   "source": [
    "### 5: Prepare our Data for PCA\n",
    "\n",
    "What steps do we need to take to preprocess our data effectively?\n",
    "\n",
    "- \n"
   ]
  },
  {
   "cell_type": "code",
   "execution_count": 8,
   "metadata": {
    "index": 18
   },
   "outputs": [],
   "source": [
    "# Code to preprocess X\n",
    "from sklearn.preprocessing import StandardScaler\n",
    "\n",
    "ss = StandardScaler()\n",
    "\n",
    "X_scaled = ss.fit_transform(X)"
   ]
  },
  {
   "cell_type": "markdown",
   "metadata": {},
   "source": [
    "### 6: Import PCA, Then Instantiate and Fit a PCA Object"
   ]
  },
  {
   "cell_type": "code",
   "execution_count": 9,
   "metadata": {
    "index": 19
   },
   "outputs": [
    {
     "data": {
      "text/plain": [
       "PCA(n_components=5)"
      ]
     },
     "execution_count": 9,
     "metadata": {},
     "output_type": "execute_result"
    }
   ],
   "source": [
    "# Code to import, instantiate and fit a PCA object\n",
    "from sklearn.decomposition import PCA\n",
    "\n",
    "pca = PCA(n_components=5)\n",
    "pca.fit(X_scaled)"
   ]
  },
  {
   "cell_type": "markdown",
   "metadata": {},
   "source": [
    "### 7: How Much Variance is Explained by the First 2 Components?"
   ]
  },
  {
   "cell_type": "code",
   "execution_count": 10,
   "metadata": {
    "index": 20
   },
   "outputs": [
    {
     "data": {
      "text/plain": [
       "array([0.44272026, 0.18971182, 0.09393163, 0.06602135, 0.05495768])"
      ]
     },
     "execution_count": 10,
     "metadata": {},
     "output_type": "execute_result"
    }
   ],
   "source": [
    "# Code here to answer the question\n",
    "\n",
    "pca.explained_variance_ratio_"
   ]
  },
  {
   "cell_type": "markdown",
   "metadata": {},
   "source": [
    "#### Answer:\n",
    "\n",
    "- 1st: 0.44\n",
    "- 2nd: 0.18\n",
    "\n",
    "Sum = 0.62 \n"
   ]
  },
  {
   "cell_type": "markdown",
   "metadata": {
    "index": 83
   },
   "source": [
    "# 2) Clustering"
   ]
  },
  {
   "cell_type": "markdown",
   "metadata": {},
   "source": [
    "## Clustering Concepts"
   ]
  },
  {
   "cell_type": "markdown",
   "metadata": {},
   "source": [
    "### 8: Describe how the K-Means algorithm updates its cluster centers after initialization."
   ]
  },
  {
   "cell_type": "markdown",
   "metadata": {},
   "source": [
    "#### Answer:\n",
    "\n",
    "• You set the number of cluster centers (K) - algorithm randomly starts with that number of cluster centers (in random spots!)\n",
    "\n",
    " • The algorithm calculates the distance between the centers and each observation and assigns the observation to the closest cluster center to create the first iteration of clusters\n",
    " \n",
    " • The algorithm then takes all the observations assigned to each cluster, and moves that cluster center to be at the exact actual center (mean) of the newly created cluster\n",
    " \n",
    " • Repeat! Until the cluster centers stop moving (or tolerance is met - some parameters in the implementation)\n"
   ]
  },
  {
   "cell_type": "markdown",
   "metadata": {},
   "source": [
    "### 9: What is inertia, and how does K-Means use inertia to determine the best estimator?\n",
    "\n",
    "Please also describe the method you can use to evaluate clustering using inertia.\n",
    "\n",
    "Documentation, for reference: https://scikit-learn.org/stable/modules/generated/sklearn.cluster.KMeans.html"
   ]
  },
  {
   "cell_type": "code",
   "execution_count": null,
   "metadata": {},
   "outputs": [],
   "source": [
    "# call_on_students(1)"
   ]
  },
  {
   "cell_type": "markdown",
   "metadata": {},
   "source": [
    "#### Answer:\n",
    "\n",
    "- Error metric\n",
    "- Inertia measures the distance between each point and its center -- better clusters are more tightly concentrated\n",
    "-\n"
   ]
  },
  {
   "cell_type": "markdown",
   "metadata": {},
   "source": [
    "### 10: What other metric do we have to score the clusters which are formed?\n",
    "\n",
    "Describe the difference between it and inertia."
   ]
  },
  {
   "cell_type": "code",
   "execution_count": null,
   "metadata": {},
   "outputs": [],
   "source": [
    "# call_on_students(1)"
   ]
  },
  {
   "cell_type": "markdown",
   "metadata": {},
   "source": [
    "#### Answer:\n",
    "\n",
    "- Silhouette Score\n",
    "- Tries to maximize distances between clusters (how different each cluster is from each other)\n"
   ]
  },
  {
   "cell_type": "markdown",
   "metadata": {
    "index": 95
   },
   "source": [
    "## Clustering in Code with Heirarchical Agglomerative Clustering"
   ]
  },
  {
   "cell_type": "markdown",
   "metadata": {
    "index": 96
   },
   "source": [
    "After the above conceptual review of KMeans, let's practice coding with agglomerative clustering.\n",
    "\n",
    "\n",
    "### Set Up"
   ]
  },
  {
   "cell_type": "code",
   "execution_count": 16,
   "metadata": {
    "index": 97
   },
   "outputs": [],
   "source": [
    "# New dataset for this section!\n",
    "from sklearn.datasets import load_iris\n",
    "\n",
    "data = load_iris()\n",
    "X = pd.DataFrame(data['data'])"
   ]
  },
  {
   "cell_type": "markdown",
   "metadata": {},
   "source": [
    "### 11: Prepare our Data for Clustering\n",
    "\n",
    "What steps do we need to take to preprocess our data effectively?\n",
    "\n",
    "- Scale the data\n"
   ]
  },
  {
   "cell_type": "code",
   "execution_count": 17,
   "metadata": {
    "index": 99
   },
   "outputs": [],
   "source": [
    "# Code to preprocess the data\n",
    "# Name the processed data X_processed\n",
    "ss2 = StandardScaler()\n",
    "\n",
    "X_processed = ss2.fit_transform(X)"
   ]
  },
  {
   "cell_type": "markdown",
   "metadata": {},
   "source": [
    "### 12: Import the Relevant Class, Then Instantiate and Fit a Hierarchical Agglomerative Clustering Object\n",
    "\n",
    "Let's use `n_clusters = 2` to start (default)"
   ]
  },
  {
   "cell_type": "code",
   "execution_count": null,
   "metadata": {},
   "outputs": [],
   "source": [
    "# call_on_students(1)"
   ]
  },
  {
   "cell_type": "code",
   "execution_count": 11,
   "metadata": {},
   "outputs": [],
   "source": [
    "# Import the relevent clustering algorithm\n",
    "\n",
    "from sklearn.cluster import AgglomerativeClustering"
   ]
  },
  {
   "cell_type": "code",
   "execution_count": 18,
   "metadata": {
    "index": 100
   },
   "outputs": [
    {
     "data": {
      "text/plain": [
       "AgglomerativeClustering()"
      ]
     },
     "execution_count": 18,
     "metadata": {},
     "output_type": "execute_result"
    }
   ],
   "source": [
    "# Fit the object\n",
    "\n",
    "cluster = AgglomerativeClustering(n_clusters=2)\n",
    "cluster.fit(X_processed)"
   ]
  },
  {
   "cell_type": "code",
   "execution_count": 20,
   "metadata": {
    "index": 101
   },
   "outputs": [
    {
     "data": {
      "text/plain": [
       "0.5770346019475989"
      ]
     },
     "execution_count": 20,
     "metadata": {},
     "output_type": "execute_result"
    }
   ],
   "source": [
    "# Calculate a silhouette score\n",
    "\n",
    "from sklearn.metrics import silhouette_score\n",
    "\n",
    "silhouette_score(X_processed, cluster.labels_)"
   ]
  },
  {
   "cell_type": "markdown",
   "metadata": {},
   "source": [
    "### 13: Write a Function to Test Different Options for `n_clusters`\n",
    "\n",
    "The function should take in the number for `n_clusters` and the data to cluster, fit a new clustering model using that parameter to the data, print the silhouette score, then return the labels attribute from the fit clustering model."
   ]
  },
  {
   "cell_type": "code",
   "execution_count": null,
   "metadata": {},
   "outputs": [],
   "source": [
    "# call_on_students(1)"
   ]
  },
  {
   "cell_type": "code",
   "execution_count": 21,
   "metadata": {},
   "outputs": [],
   "source": [
    "def test_n_for_clustering(n, data):\n",
    "    \"\"\" \n",
    "    Tests different numbers for the hyperparameter n_clusters\n",
    "    Prints the silhouette score for that clustering model\n",
    "    Returns the labels that are output from the clustering model\n",
    "\n",
    "    Parameters: \n",
    "    -----------\n",
    "    n: float object\n",
    "        number of clusters to use in the agglomerative clustering model\n",
    "    data: Pandas DataFrame or array-like object\n",
    "        Data to cluster\n",
    "\n",
    "    Returns: \n",
    "    --------\n",
    "    labels: array-like object\n",
    "        Labels attribute from the clustering model\n",
    "    \"\"\"\n",
    "    # Fit the new clustering model\n",
    "    \n",
    "    cluster = AgglomerativeClustering(n_clusters=n)\n",
    "    cluster.fit(data)\n",
    "    \n",
    "    # Print the silhouette score\n",
    "    print(silhouette_score(data, cluster.labels_))\n",
    "    \n",
    "    # Return the labels attribute from the fit clustering model\n",
    "    \n",
    "    return cluster.labels_"
   ]
  },
  {
   "cell_type": "code",
   "execution_count": 22,
   "metadata": {},
   "outputs": [
    {
     "name": "stdout",
     "output_type": "stream",
     "text": [
      "0.5770346019475989\n",
      "0.446689041028591\n",
      "0.4006363159855973\n",
      "0.33058726295230545\n",
      "0.3148548010051283\n",
      "0.316969830299128\n",
      "0.310946529007258\n"
     ]
    }
   ],
   "source": [
    "# Testing your function\n",
    "\n",
    "for n in range(2, 9):\n",
    "    test_n_for_clustering(n, X_processed)"
   ]
  },
  {
   "cell_type": "markdown",
   "metadata": {
    "index": 51
   },
   "source": [
    "# 3) Time Series"
   ]
  },
  {
   "cell_type": "code",
   "execution_count": 27,
   "metadata": {
    "index": 52,
    "scrolled": true
   },
   "outputs": [
    {
     "data": {
      "text/html": [
       "<div>\n",
       "<style scoped>\n",
       "    .dataframe tbody tr th:only-of-type {\n",
       "        vertical-align: middle;\n",
       "    }\n",
       "\n",
       "    .dataframe tbody tr th {\n",
       "        vertical-align: top;\n",
       "    }\n",
       "\n",
       "    .dataframe thead th {\n",
       "        text-align: right;\n",
       "    }\n",
       "</style>\n",
       "<table border=\"1\" class=\"dataframe\">\n",
       "  <thead>\n",
       "    <tr style=\"text-align: right;\">\n",
       "      <th></th>\n",
       "      <th>Month</th>\n",
       "      <th>#Passengers</th>\n",
       "    </tr>\n",
       "  </thead>\n",
       "  <tbody>\n",
       "    <tr>\n",
       "      <th>0</th>\n",
       "      <td>1949-01</td>\n",
       "      <td>112</td>\n",
       "    </tr>\n",
       "    <tr>\n",
       "      <th>1</th>\n",
       "      <td>1949-02</td>\n",
       "      <td>118</td>\n",
       "    </tr>\n",
       "    <tr>\n",
       "      <th>2</th>\n",
       "      <td>1949-03</td>\n",
       "      <td>132</td>\n",
       "    </tr>\n",
       "    <tr>\n",
       "      <th>3</th>\n",
       "      <td>1949-04</td>\n",
       "      <td>129</td>\n",
       "    </tr>\n",
       "    <tr>\n",
       "      <th>4</th>\n",
       "      <td>1949-05</td>\n",
       "      <td>121</td>\n",
       "    </tr>\n",
       "  </tbody>\n",
       "</table>\n",
       "</div>"
      ],
      "text/plain": [
       "     Month  #Passengers\n",
       "0  1949-01          112\n",
       "1  1949-02          118\n",
       "2  1949-03          132\n",
       "3  1949-04          129\n",
       "4  1949-05          121"
      ]
     },
     "execution_count": 27,
     "metadata": {},
     "output_type": "execute_result"
    }
   ],
   "source": [
    "# New dataset for this section!\n",
    "ap = pd.read_csv('data/AirPassengers.csv')\n",
    "ap.head()"
   ]
  },
  {
   "cell_type": "markdown",
   "metadata": {},
   "source": [
    "### 14: Prepare our Data for Time Series Analysis\n",
    "\n",
    "What steps do we need to take to preprocess our data effectively?\n",
    "\n",
    "- \n"
   ]
  },
  {
   "cell_type": "code",
   "execution_count": null,
   "metadata": {},
   "outputs": [],
   "source": [
    "# call_on_students(1)"
   ]
  },
  {
   "cell_type": "code",
   "execution_count": 41,
   "metadata": {},
   "outputs": [
    {
     "ename": "KeyError",
     "evalue": "'Month'",
     "output_type": "error",
     "traceback": [
      "\u001b[0;31m---------------------------------------------------------------------------\u001b[0m",
      "\u001b[0;31mKeyError\u001b[0m                                  Traceback (most recent call last)",
      "\u001b[0;32m~/opt/anaconda3/envs/learn-env/lib/python3.8/site-packages/pandas/core/indexes/base.py\u001b[0m in \u001b[0;36mget_loc\u001b[0;34m(self, key, method, tolerance)\u001b[0m\n\u001b[1;32m   2894\u001b[0m             \u001b[0;32mtry\u001b[0m\u001b[0;34m:\u001b[0m\u001b[0;34m\u001b[0m\u001b[0;34m\u001b[0m\u001b[0m\n\u001b[0;32m-> 2895\u001b[0;31m                 \u001b[0;32mreturn\u001b[0m \u001b[0mself\u001b[0m\u001b[0;34m.\u001b[0m\u001b[0m_engine\u001b[0m\u001b[0;34m.\u001b[0m\u001b[0mget_loc\u001b[0m\u001b[0;34m(\u001b[0m\u001b[0mcasted_key\u001b[0m\u001b[0;34m)\u001b[0m\u001b[0;34m\u001b[0m\u001b[0;34m\u001b[0m\u001b[0m\n\u001b[0m\u001b[1;32m   2896\u001b[0m             \u001b[0;32mexcept\u001b[0m \u001b[0mKeyError\u001b[0m \u001b[0;32mas\u001b[0m \u001b[0merr\u001b[0m\u001b[0;34m:\u001b[0m\u001b[0;34m\u001b[0m\u001b[0;34m\u001b[0m\u001b[0m\n",
      "\u001b[0;32mpandas/_libs/index.pyx\u001b[0m in \u001b[0;36mpandas._libs.index.IndexEngine.get_loc\u001b[0;34m()\u001b[0m\n",
      "\u001b[0;32mpandas/_libs/index.pyx\u001b[0m in \u001b[0;36mpandas._libs.index.IndexEngine.get_loc\u001b[0;34m()\u001b[0m\n",
      "\u001b[0;32mpandas/_libs/hashtable_class_helper.pxi\u001b[0m in \u001b[0;36mpandas._libs.hashtable.PyObjectHashTable.get_item\u001b[0;34m()\u001b[0m\n",
      "\u001b[0;32mpandas/_libs/hashtable_class_helper.pxi\u001b[0m in \u001b[0;36mpandas._libs.hashtable.PyObjectHashTable.get_item\u001b[0;34m()\u001b[0m\n",
      "\u001b[0;31mKeyError\u001b[0m: 'Month'",
      "\nThe above exception was the direct cause of the following exception:\n",
      "\u001b[0;31mKeyError\u001b[0m                                  Traceback (most recent call last)",
      "\u001b[0;32m<ipython-input-41-763b72201af0>\u001b[0m in \u001b[0;36m<module>\u001b[0;34m\u001b[0m\n\u001b[1;32m      1\u001b[0m \u001b[0;31m# Code here\u001b[0m\u001b[0;34m\u001b[0m\u001b[0;34m\u001b[0m\u001b[0;34m\u001b[0m\u001b[0m\n\u001b[1;32m      2\u001b[0m \u001b[0;34m\u001b[0m\u001b[0m\n\u001b[0;32m----> 3\u001b[0;31m \u001b[0map\u001b[0m\u001b[0;34m[\u001b[0m\u001b[0;34m'Month'\u001b[0m\u001b[0;34m]\u001b[0m \u001b[0;34m=\u001b[0m \u001b[0mpd\u001b[0m\u001b[0;34m.\u001b[0m\u001b[0mto_datetime\u001b[0m\u001b[0;34m(\u001b[0m\u001b[0map\u001b[0m\u001b[0;34m[\u001b[0m\u001b[0;34m'Month'\u001b[0m\u001b[0;34m]\u001b[0m\u001b[0;34m)\u001b[0m\u001b[0;34m\u001b[0m\u001b[0;34m\u001b[0m\u001b[0m\n\u001b[0m\u001b[1;32m      4\u001b[0m \u001b[0map\u001b[0m \u001b[0;34m=\u001b[0m \u001b[0map\u001b[0m\u001b[0;34m.\u001b[0m\u001b[0mset_index\u001b[0m\u001b[0;34m(\u001b[0m\u001b[0;34m'Month'\u001b[0m\u001b[0;34m)\u001b[0m\u001b[0;34m\u001b[0m\u001b[0;34m\u001b[0m\u001b[0m\n\u001b[1;32m      5\u001b[0m \u001b[0;34m\u001b[0m\u001b[0m\n",
      "\u001b[0;32m~/opt/anaconda3/envs/learn-env/lib/python3.8/site-packages/pandas/core/frame.py\u001b[0m in \u001b[0;36m__getitem__\u001b[0;34m(self, key)\u001b[0m\n\u001b[1;32m   2900\u001b[0m             \u001b[0;32mif\u001b[0m \u001b[0mself\u001b[0m\u001b[0;34m.\u001b[0m\u001b[0mcolumns\u001b[0m\u001b[0;34m.\u001b[0m\u001b[0mnlevels\u001b[0m \u001b[0;34m>\u001b[0m \u001b[0;36m1\u001b[0m\u001b[0;34m:\u001b[0m\u001b[0;34m\u001b[0m\u001b[0;34m\u001b[0m\u001b[0m\n\u001b[1;32m   2901\u001b[0m                 \u001b[0;32mreturn\u001b[0m \u001b[0mself\u001b[0m\u001b[0;34m.\u001b[0m\u001b[0m_getitem_multilevel\u001b[0m\u001b[0;34m(\u001b[0m\u001b[0mkey\u001b[0m\u001b[0;34m)\u001b[0m\u001b[0;34m\u001b[0m\u001b[0;34m\u001b[0m\u001b[0m\n\u001b[0;32m-> 2902\u001b[0;31m             \u001b[0mindexer\u001b[0m \u001b[0;34m=\u001b[0m \u001b[0mself\u001b[0m\u001b[0;34m.\u001b[0m\u001b[0mcolumns\u001b[0m\u001b[0;34m.\u001b[0m\u001b[0mget_loc\u001b[0m\u001b[0;34m(\u001b[0m\u001b[0mkey\u001b[0m\u001b[0;34m)\u001b[0m\u001b[0;34m\u001b[0m\u001b[0;34m\u001b[0m\u001b[0m\n\u001b[0m\u001b[1;32m   2903\u001b[0m             \u001b[0;32mif\u001b[0m \u001b[0mis_integer\u001b[0m\u001b[0;34m(\u001b[0m\u001b[0mindexer\u001b[0m\u001b[0;34m)\u001b[0m\u001b[0;34m:\u001b[0m\u001b[0;34m\u001b[0m\u001b[0;34m\u001b[0m\u001b[0m\n\u001b[1;32m   2904\u001b[0m                 \u001b[0mindexer\u001b[0m \u001b[0;34m=\u001b[0m \u001b[0;34m[\u001b[0m\u001b[0mindexer\u001b[0m\u001b[0;34m]\u001b[0m\u001b[0;34m\u001b[0m\u001b[0;34m\u001b[0m\u001b[0m\n",
      "\u001b[0;32m~/opt/anaconda3/envs/learn-env/lib/python3.8/site-packages/pandas/core/indexes/base.py\u001b[0m in \u001b[0;36mget_loc\u001b[0;34m(self, key, method, tolerance)\u001b[0m\n\u001b[1;32m   2895\u001b[0m                 \u001b[0;32mreturn\u001b[0m \u001b[0mself\u001b[0m\u001b[0;34m.\u001b[0m\u001b[0m_engine\u001b[0m\u001b[0;34m.\u001b[0m\u001b[0mget_loc\u001b[0m\u001b[0;34m(\u001b[0m\u001b[0mcasted_key\u001b[0m\u001b[0;34m)\u001b[0m\u001b[0;34m\u001b[0m\u001b[0;34m\u001b[0m\u001b[0m\n\u001b[1;32m   2896\u001b[0m             \u001b[0;32mexcept\u001b[0m \u001b[0mKeyError\u001b[0m \u001b[0;32mas\u001b[0m \u001b[0merr\u001b[0m\u001b[0;34m:\u001b[0m\u001b[0;34m\u001b[0m\u001b[0;34m\u001b[0m\u001b[0m\n\u001b[0;32m-> 2897\u001b[0;31m                 \u001b[0;32mraise\u001b[0m \u001b[0mKeyError\u001b[0m\u001b[0;34m(\u001b[0m\u001b[0mkey\u001b[0m\u001b[0;34m)\u001b[0m \u001b[0;32mfrom\u001b[0m \u001b[0merr\u001b[0m\u001b[0;34m\u001b[0m\u001b[0;34m\u001b[0m\u001b[0m\n\u001b[0m\u001b[1;32m   2898\u001b[0m \u001b[0;34m\u001b[0m\u001b[0m\n\u001b[1;32m   2899\u001b[0m         \u001b[0;32mif\u001b[0m \u001b[0mtolerance\u001b[0m \u001b[0;32mis\u001b[0m \u001b[0;32mnot\u001b[0m \u001b[0;32mNone\u001b[0m\u001b[0;34m:\u001b[0m\u001b[0;34m\u001b[0m\u001b[0;34m\u001b[0m\u001b[0m\n",
      "\u001b[0;31mKeyError\u001b[0m: 'Month'"
     ]
    }
   ],
   "source": [
    "# Code here \n",
    "\n",
    "ap['Month'] = pd.to_datetime(ap['Month'])\n",
    "ap = ap.set_index('Month')"
   ]
  },
  {
   "cell_type": "code",
   "execution_count": 43,
   "metadata": {},
   "outputs": [
    {
     "data": {
      "text/html": [
       "<div>\n",
       "<style scoped>\n",
       "    .dataframe tbody tr th:only-of-type {\n",
       "        vertical-align: middle;\n",
       "    }\n",
       "\n",
       "    .dataframe tbody tr th {\n",
       "        vertical-align: top;\n",
       "    }\n",
       "\n",
       "    .dataframe thead th {\n",
       "        text-align: right;\n",
       "    }\n",
       "</style>\n",
       "<table border=\"1\" class=\"dataframe\">\n",
       "  <thead>\n",
       "    <tr style=\"text-align: right;\">\n",
       "      <th></th>\n",
       "      <th>#Passengers</th>\n",
       "    </tr>\n",
       "    <tr>\n",
       "      <th>Month</th>\n",
       "      <th></th>\n",
       "    </tr>\n",
       "  </thead>\n",
       "  <tbody>\n",
       "    <tr>\n",
       "      <th>1949-01-01</th>\n",
       "      <td>112</td>\n",
       "    </tr>\n",
       "    <tr>\n",
       "      <th>1949-02-01</th>\n",
       "      <td>118</td>\n",
       "    </tr>\n",
       "    <tr>\n",
       "      <th>1949-03-01</th>\n",
       "      <td>132</td>\n",
       "    </tr>\n",
       "    <tr>\n",
       "      <th>1949-04-01</th>\n",
       "      <td>129</td>\n",
       "    </tr>\n",
       "    <tr>\n",
       "      <th>1949-05-01</th>\n",
       "      <td>121</td>\n",
       "    </tr>\n",
       "    <tr>\n",
       "      <th>...</th>\n",
       "      <td>...</td>\n",
       "    </tr>\n",
       "    <tr>\n",
       "      <th>1960-08-01</th>\n",
       "      <td>606</td>\n",
       "    </tr>\n",
       "    <tr>\n",
       "      <th>1960-09-01</th>\n",
       "      <td>508</td>\n",
       "    </tr>\n",
       "    <tr>\n",
       "      <th>1960-10-01</th>\n",
       "      <td>461</td>\n",
       "    </tr>\n",
       "    <tr>\n",
       "      <th>1960-11-01</th>\n",
       "      <td>390</td>\n",
       "    </tr>\n",
       "    <tr>\n",
       "      <th>1960-12-01</th>\n",
       "      <td>432</td>\n",
       "    </tr>\n",
       "  </tbody>\n",
       "</table>\n",
       "<p>144 rows × 1 columns</p>\n",
       "</div>"
      ],
      "text/plain": [
       "            #Passengers\n",
       "Month                  \n",
       "1949-01-01          112\n",
       "1949-02-01          118\n",
       "1949-03-01          132\n",
       "1949-04-01          129\n",
       "1949-05-01          121\n",
       "...                 ...\n",
       "1960-08-01          606\n",
       "1960-09-01          508\n",
       "1960-10-01          461\n",
       "1960-11-01          390\n",
       "1960-12-01          432\n",
       "\n",
       "[144 rows x 1 columns]"
      ]
     },
     "execution_count": 43,
     "metadata": {},
     "output_type": "execute_result"
    }
   ],
   "source": [
    "ap"
   ]
  },
  {
   "cell_type": "markdown",
   "metadata": {},
   "source": [
    "### 15: Explore Patterns in the Data"
   ]
  },
  {
   "cell_type": "code",
   "execution_count": null,
   "metadata": {},
   "outputs": [],
   "source": [
    "# call_on_students(1)"
   ]
  },
  {
   "cell_type": "markdown",
   "metadata": {},
   "source": [
    "First: what kinds of patterns can one find in time series data?\n",
    "\n",
    "- Cyclical patterns (repeating over time)\n",
    "- Seasonal patterns\n",
    "- (Irregular) Upward/downward mean\n",
    "- (Trend) Trends in Variance (additive/multiplicative)\n",
    "\n",
    "https://otexts.com/fpp2/tspatterns.html\n"
   ]
  },
  {
   "cell_type": "markdown",
   "metadata": {},
   "source": [
    "Second, plot this time series data. What kinds of patterns do you see in this dataset?"
   ]
  },
  {
   "cell_type": "code",
   "execution_count": 28,
   "metadata": {
    "index": 62
   },
   "outputs": [
    {
     "data": {
      "text/plain": [
       "<AxesSubplot:>"
      ]
     },
     "execution_count": 28,
     "metadata": {},
     "output_type": "execute_result"
    },
    {
     "data": {
      "image/png": "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\n",
      "text/plain": [
       "<Figure size 432x288 with 1 Axes>"
      ]
     },
     "metadata": {
      "needs_background": "light"
     },
     "output_type": "display_data"
    }
   ],
   "source": [
    "# Code to plot the time series\n",
    "\n",
    "ap.plot()"
   ]
  },
  {
   "cell_type": "markdown",
   "metadata": {},
   "source": [
    "### 16: Explore the Moving Average\n",
    "\n",
    "What window would make sense to use for this data?\n",
    "\n",
    "- \n"
   ]
  },
  {
   "cell_type": "code",
   "execution_count": null,
   "metadata": {},
   "outputs": [],
   "source": [
    "# call_on_students(1)"
   ]
  },
  {
   "cell_type": "code",
   "execution_count": 30,
   "metadata": {},
   "outputs": [],
   "source": [
    "# Code to create the moving average\n",
    "\n",
    "# Yearly (12-month) moving average\n",
    "yrly_avg = ap.rolling(window=12).mean()"
   ]
  },
  {
   "cell_type": "code",
   "execution_count": 34,
   "metadata": {
    "index": 67
   },
   "outputs": [
    {
     "data": {
      "image/png": "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\n",
      "text/plain": [
       "<Figure size 432x288 with 1 Axes>"
      ]
     },
     "metadata": {
      "needs_background": "light"
     },
     "output_type": "display_data"
    }
   ],
   "source": [
    "# Add to the moving average to the above plot\n",
    "\n",
    "ap.plot()\n",
    "plt.plot(yrly_avg);"
   ]
  },
  {
   "cell_type": "markdown",
   "metadata": {},
   "source": [
    "### 17: Explore Stationarity\n"
   ]
  },
  {
   "cell_type": "code",
   "execution_count": null,
   "metadata": {},
   "outputs": [],
   "source": [
    "# call_on_students(1)"
   ]
  },
  {
   "cell_type": "markdown",
   "metadata": {
    "index": 69
   },
   "source": [
    "Why do we try to make our data stationary?\n",
    "\n",
    "- Model performs better on stationary data because it helps the model focus on the part that actually needs predicting\n"
   ]
  },
  {
   "cell_type": "markdown",
   "metadata": {
    "index": 69
   },
   "source": [
    "What can we do to make our data stationary?\n",
    "\n",
    "- Differencing\n",
    "- Moving average\n",
    "- Transformations (log or linear)\n"
   ]
  },
  {
   "cell_type": "markdown",
   "metadata": {},
   "source": [
    "### 18: Check Stationarity"
   ]
  },
  {
   "cell_type": "code",
   "execution_count": null,
   "metadata": {},
   "outputs": [],
   "source": [
    "# call_on_students(1)"
   ]
  },
  {
   "cell_type": "code",
   "execution_count": 44,
   "metadata": {
    "index": 80
   },
   "outputs": [
    {
     "data": {
      "text/plain": [
       "0.9918802434376409"
      ]
     },
     "execution_count": 44,
     "metadata": {},
     "output_type": "execute_result"
    }
   ],
   "source": [
    "# Code here to check if the data is stationary\n",
    "\n",
    "from statsmodels.tsa.stattools import adfuller\n",
    "adfuller(ap)[1]"
   ]
  },
  {
   "cell_type": "markdown",
   "metadata": {},
   "source": [
    "- Fail to reject Ho (data is stationary)\n",
    "\n",
    "- Data is NOT stationary"
   ]
  },
  {
   "cell_type": "markdown",
   "metadata": {},
   "source": [
    "### 19: Try to Make the Data Stationarity\n",
    "\n",
    "Implement one strategy to try to make the data more stationary, then check if it worked."
   ]
  },
  {
   "cell_type": "code",
   "execution_count": null,
   "metadata": {},
   "outputs": [],
   "source": [
    "# call_on_students(1)"
   ]
  },
  {
   "cell_type": "code",
   "execution_count": 45,
   "metadata": {
    "index": 73
   },
   "outputs": [
    {
     "data": {
      "text/plain": [
       "<AxesSubplot:xlabel='Month'>"
      ]
     },
     "execution_count": 45,
     "metadata": {},
     "output_type": "execute_result"
    },
    {
     "data": {
      "image/png": "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\n",
      "text/plain": [
       "<Figure size 432x288 with 1 Axes>"
      ]
     },
     "metadata": {
      "needs_background": "light"
     },
     "output_type": "display_data"
    }
   ],
   "source": [
    "# Code here to try to make the data stationary\n",
    "\n",
    "diff_ap = ap.diff().dropna()\n",
    "\n",
    "diff_ap.plot()"
   ]
  },
  {
   "cell_type": "code",
   "execution_count": 46,
   "metadata": {},
   "outputs": [
    {
     "data": {
      "text/plain": [
       "0.05421329028382621"
      ]
     },
     "execution_count": 46,
     "metadata": {},
     "output_type": "execute_result"
    }
   ],
   "source": [
    "# Code here to check if the data is stationary\n",
    "\n",
    "adfuller(diff_ap)[1]"
   ]
  },
  {
   "cell_type": "markdown",
   "metadata": {
    "index": 82
   },
   "source": [
    "<a id='clust'></a>"
   ]
  },
  {
   "cell_type": "markdown",
   "metadata": {
    "index": 23
   },
   "source": [
    "# 4) Natural Language Processing"
   ]
  },
  {
   "cell_type": "markdown",
   "metadata": {},
   "source": [
    "## NLP Concepts\n",
    "\n",
    "### Some Example Text"
   ]
  },
  {
   "cell_type": "code",
   "execution_count": null,
   "metadata": {
    "index": 24
   },
   "outputs": [],
   "source": [
    "# Each sentence is a document\n",
    "sentence_one = \"Harry Potter is the best young adult book about wizards\"\n",
    "sentence_two = \"Um, EXCUSE ME! Ever heard of Earth Sea?\"\n",
    "sentence_three = \"I only like to read non-fiction.  It makes me a better person.\"\n",
    "\n",
    "# The corpus is composed of all of the documents\n",
    "corpus = [sentence_one, sentence_two, sentence_three]"
   ]
  },
  {
   "cell_type": "markdown",
   "metadata": {},
   "source": [
    "### 20: NLP Pre-processing\n",
    "\n",
    "List at least three steps you can take to turn raw text like this into something that would be semantically valuable (aka ready to turn into numbers):"
   ]
  },
  {
   "cell_type": "code",
   "execution_count": null,
   "metadata": {},
   "outputs": [],
   "source": [
    "# call_on_students(1)"
   ]
  },
  {
   "cell_type": "markdown",
   "metadata": {
    "index": 25
   },
   "source": [
    "#### Answer:\n",
    "\n",
    "1. Lowercase & Remove punctuation\n",
    "2. Tokenize\n",
    "3. Remove Stop Words\n",
    "4. Lem vs. Stem"
   ]
  },
  {
   "cell_type": "markdown",
   "metadata": {},
   "source": [
    "### 21: Describe what vectorized text would look like as a dataframe.\n",
    "\n",
    "If you vectorize the above corpus, what would the rows and columns be in the resulting dataframe (aka document term matrix)"
   ]
  },
  {
   "cell_type": "code",
   "execution_count": null,
   "metadata": {},
   "outputs": [],
   "source": [
    "# call_on_students(1)"
   ]
  },
  {
   "cell_type": "markdown",
   "metadata": {
    "index": 25
   },
   "source": [
    "#### Answer:\n",
    "\n",
    "- \n"
   ]
  },
  {
   "cell_type": "markdown",
   "metadata": {},
   "source": [
    "### 22: What does TF-IDF do?\n",
    "\n",
    "Also, what does TF-IDF stand for?"
   ]
  },
  {
   "cell_type": "code",
   "execution_count": null,
   "metadata": {},
   "outputs": [],
   "source": [
    "# call_on_students(1)"
   ]
  },
  {
   "cell_type": "markdown",
   "metadata": {
    "index": 25
   },
   "source": [
    "#### Answer:\n",
    "\n",
    "- Term frequency inverse document frequency\n",
    "- Vectorizer takes into account the rarity of the words\n"
   ]
  },
  {
   "cell_type": "markdown",
   "metadata": {
    "index": 33
   },
   "source": [
    "## NLP in Code\n",
    "\n",
    "### Set Up"
   ]
  },
  {
   "cell_type": "code",
   "execution_count": 47,
   "metadata": {
    "index": 34
   },
   "outputs": [],
   "source": [
    "# New section, new data\n",
    "policies = pd.read_csv('data/2020_policies_feb_24.csv')\n",
    "\n",
    "def warren_not_warren(label):\n",
    "    \n",
    "    '''Make label a binary between Elizabeth Warren\n",
    "    speeches and speeches from all other candidates'''\n",
    "    \n",
    "    if label =='warren':\n",
    "        return 1\n",
    "    else:\n",
    "        return 0\n",
    "    \n",
    "policies['candidate'] = policies['candidate'].apply(warren_not_warren)"
   ]
  },
  {
   "cell_type": "markdown",
   "metadata": {
    "index": 35
   },
   "source": [
    "The dataframe loaded above consists of policies of 2020 Democratic presidential hopefuls. The `policy` column holds text describing the policies themselves.  The `candidate` column indicates whether it was or was not an Elizabeth Warren policy."
   ]
  },
  {
   "cell_type": "code",
   "execution_count": 48,
   "metadata": {
    "index": 36
   },
   "outputs": [
    {
     "data": {
      "text/html": [
       "<div>\n",
       "<style scoped>\n",
       "    .dataframe tbody tr th:only-of-type {\n",
       "        vertical-align: middle;\n",
       "    }\n",
       "\n",
       "    .dataframe tbody tr th {\n",
       "        vertical-align: top;\n",
       "    }\n",
       "\n",
       "    .dataframe thead th {\n",
       "        text-align: right;\n",
       "    }\n",
       "</style>\n",
       "<table border=\"1\" class=\"dataframe\">\n",
       "  <thead>\n",
       "    <tr style=\"text-align: right;\">\n",
       "      <th></th>\n",
       "      <th>Unnamed: 0</th>\n",
       "      <th>name</th>\n",
       "      <th>policy</th>\n",
       "      <th>candidate</th>\n",
       "    </tr>\n",
       "  </thead>\n",
       "  <tbody>\n",
       "    <tr>\n",
       "      <th>0</th>\n",
       "      <td>0</td>\n",
       "      <td>100% Clean Energy for America</td>\n",
       "      <td>As published on Medium on September 3rd, 2019:...</td>\n",
       "      <td>1</td>\n",
       "    </tr>\n",
       "    <tr>\n",
       "      <th>1</th>\n",
       "      <td>1</td>\n",
       "      <td>A Comprehensive Agenda to Boost America’s Smal...</td>\n",
       "      <td>Small businesses are the heart of our economy....</td>\n",
       "      <td>1</td>\n",
       "    </tr>\n",
       "    <tr>\n",
       "      <th>2</th>\n",
       "      <td>2</td>\n",
       "      <td>A Fair and Welcoming Immigration System</td>\n",
       "      <td>As published on Medium on July 11th, 2019:\\nIm...</td>\n",
       "      <td>1</td>\n",
       "    </tr>\n",
       "    <tr>\n",
       "      <th>3</th>\n",
       "      <td>3</td>\n",
       "      <td>A Fair Workweek for America’s Part-Time Workers</td>\n",
       "      <td>Working families all across the country are ge...</td>\n",
       "      <td>1</td>\n",
       "    </tr>\n",
       "    <tr>\n",
       "      <th>4</th>\n",
       "      <td>4</td>\n",
       "      <td>A Great Public School Education for Every Student</td>\n",
       "      <td>I attended public school growing up in Oklahom...</td>\n",
       "      <td>1</td>\n",
       "    </tr>\n",
       "  </tbody>\n",
       "</table>\n",
       "</div>"
      ],
      "text/plain": [
       "   Unnamed: 0                                               name  \\\n",
       "0           0                      100% Clean Energy for America   \n",
       "1           1  A Comprehensive Agenda to Boost America’s Smal...   \n",
       "2           2            A Fair and Welcoming Immigration System   \n",
       "3           3    A Fair Workweek for America’s Part-Time Workers   \n",
       "4           4  A Great Public School Education for Every Student   \n",
       "\n",
       "                                              policy  candidate  \n",
       "0  As published on Medium on September 3rd, 2019:...          1  \n",
       "1  Small businesses are the heart of our economy....          1  \n",
       "2  As published on Medium on July 11th, 2019:\\nIm...          1  \n",
       "3  Working families all across the country are ge...          1  \n",
       "4  I attended public school growing up in Oklahom...          1  "
      ]
     },
     "execution_count": 48,
     "metadata": {},
     "output_type": "execute_result"
    }
   ],
   "source": [
    "policies.head()"
   ]
  },
  {
   "cell_type": "markdown",
   "metadata": {
    "index": 37
   },
   "source": [
    "The documents for activity are in the `policy` column, and the target is candidate. "
   ]
  },
  {
   "cell_type": "markdown",
   "metadata": {},
   "source": [
    "### 23: Import the Relevant Class, Then Instantiate and Fit a Count Vectorizer Object"
   ]
  },
  {
   "cell_type": "code",
   "execution_count": null,
   "metadata": {},
   "outputs": [],
   "source": [
    "# call_on_students(1)"
   ]
  },
  {
   "cell_type": "code",
   "execution_count": 61,
   "metadata": {},
   "outputs": [],
   "source": [
    "# First! Train-test split the dataset\n",
    "from sklearn.model_selection import train_test_split\n",
    "\n",
    "# Code here to train test split\n",
    "X_train, X_test, y_train, y_test = train_test_split(policies.policy, policies.candidate)"
   ]
  },
  {
   "cell_type": "code",
   "execution_count": 62,
   "metadata": {},
   "outputs": [],
   "source": [
    "# Import the relevant vectorizer\n",
    "\n",
    "from sklearn.feature_extraction.text import CountVectorizer\n"
   ]
  },
  {
   "cell_type": "code",
   "execution_count": 63,
   "metadata": {},
   "outputs": [],
   "source": [
    "# Instantiate it\n",
    "vectorizer = CountVectorizer()"
   ]
  },
  {
   "cell_type": "code",
   "execution_count": 64,
   "metadata": {},
   "outputs": [
    {
     "data": {
      "text/plain": [
       "CountVectorizer()"
      ]
     },
     "execution_count": 64,
     "metadata": {},
     "output_type": "execute_result"
    }
   ],
   "source": [
    "# Fit it\n",
    "\n",
    "vectorizer.fit(X_train)"
   ]
  },
  {
   "cell_type": "markdown",
   "metadata": {},
   "source": [
    "### 24: Vectorize Your Text, Then Model"
   ]
  },
  {
   "cell_type": "code",
   "execution_count": null,
   "metadata": {},
   "outputs": [],
   "source": [
    "# call_on_students(1)"
   ]
  },
  {
   "cell_type": "code",
   "execution_count": 65,
   "metadata": {
    "index": 42
   },
   "outputs": [],
   "source": [
    "# Code here to transform train and test sets with the vectorizer\n",
    "\n",
    "X_train_vec = vectorizer.transform(X_train)\n",
    "X_test_vec = vectorizer.transform(X_test)"
   ]
  },
  {
   "cell_type": "code",
   "execution_count": 66,
   "metadata": {
    "index": 44
   },
   "outputs": [
    {
     "data": {
      "text/plain": [
       "RandomForestClassifier()"
      ]
     },
     "execution_count": 66,
     "metadata": {},
     "output_type": "execute_result"
    }
   ],
   "source": [
    "# Importing the classifier...\n",
    "from sklearn.ensemble import RandomForestClassifier\n",
    "\n",
    "# Code here to instantiate and fit a Random Forest model\n",
    "\n",
    "rfc = RandomForestClassifier()\n",
    "rfc.fit(X_train_vec, y_train)"
   ]
  },
  {
   "cell_type": "code",
   "execution_count": 67,
   "metadata": {},
   "outputs": [
    {
     "data": {
      "text/plain": [
       "0.9583333333333334"
      ]
     },
     "execution_count": 67,
     "metadata": {},
     "output_type": "execute_result"
    }
   ],
   "source": [
    "# Code here to evaluate your model on the test set\n",
    "rfc.score(X_test_vec, y_test)"
   ]
  }
 ],
 "metadata": {
  "kernelspec": {
   "display_name": "Python (learn-env)",
   "language": "python",
   "name": "learn-env"
  },
  "language_info": {
   "codemirror_mode": {
    "name": "ipython",
    "version": 3
   },
   "file_extension": ".py",
   "mimetype": "text/x-python",
   "name": "python",
   "nbconvert_exporter": "python",
   "pygments_lexer": "ipython3",
   "version": "3.8.5"
  }
 },
 "nbformat": 4,
 "nbformat_minor": 4
}
