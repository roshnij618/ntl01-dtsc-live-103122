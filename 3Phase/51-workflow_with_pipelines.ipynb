{
 "cells": [
  {
   "cell_type": "markdown",
   "metadata": {},
   "source": [
    "# Classification Workflow with Pipelines"
   ]
  },
  {
   "cell_type": "markdown",
   "metadata": {},
   "source": [
    "Let's add pipelines into our workflow!"
   ]
  },
  {
   "cell_type": "code",
   "execution_count": 39,
   "metadata": {},
   "outputs": [],
   "source": [
    "import pandas as pd\n",
    "import numpy as np\n",
    "from matplotlib import pyplot as plt\n",
    "import seaborn as sns\n",
    "\n",
    "from sklearn.model_selection import train_test_split, GridSearchCV, cross_val_score\n",
    "from sklearn.pipeline import Pipeline\n",
    "from sklearn.preprocessing import StandardScaler, OneHotEncoder, FunctionTransformer\n",
    "from sklearn.impute import SimpleImputer\n",
    "from sklearn.compose import ColumnTransformer,  make_column_selector as selector\n",
    "from sklearn.linear_model import LogisticRegression\n",
    "from sklearn.ensemble import RandomForestClassifier, GradientBoostingClassifier\n",
    "from sklearn.metrics import plot_confusion_matrix, recall_score,\\\n",
    "    accuracy_score, precision_score, f1_score\n",
    "\n",
    "from imblearn.over_sampling import SMOTE\n",
    "from imblearn.pipeline import Pipeline as ImPipeline\n",
    "\n",
    "from sklearn.dummy import DummyClassifier"
   ]
  },
  {
   "cell_type": "code",
   "execution_count": 19,
   "metadata": {},
   "outputs": [
    {
     "data": {
      "text/html": [
       "<div>\n",
       "<style scoped>\n",
       "    .dataframe tbody tr th:only-of-type {\n",
       "        vertical-align: middle;\n",
       "    }\n",
       "\n",
       "    .dataframe tbody tr th {\n",
       "        vertical-align: top;\n",
       "    }\n",
       "\n",
       "    .dataframe thead th {\n",
       "        text-align: right;\n",
       "    }\n",
       "</style>\n",
       "<table border=\"1\" class=\"dataframe\">\n",
       "  <thead>\n",
       "    <tr style=\"text-align: right;\">\n",
       "      <th></th>\n",
       "      <th>PassengerId</th>\n",
       "      <th>Survived</th>\n",
       "      <th>Pclass</th>\n",
       "      <th>Name</th>\n",
       "      <th>Sex</th>\n",
       "      <th>Age</th>\n",
       "      <th>SibSp</th>\n",
       "      <th>Parch</th>\n",
       "      <th>Ticket</th>\n",
       "      <th>Fare</th>\n",
       "      <th>Cabin</th>\n",
       "      <th>Embarked</th>\n",
       "    </tr>\n",
       "  </thead>\n",
       "  <tbody>\n",
       "    <tr>\n",
       "      <th>0</th>\n",
       "      <td>1</td>\n",
       "      <td>0</td>\n",
       "      <td>3</td>\n",
       "      <td>Braund, Mr. Owen Harris</td>\n",
       "      <td>male</td>\n",
       "      <td>22.0</td>\n",
       "      <td>1</td>\n",
       "      <td>0</td>\n",
       "      <td>A/5 21171</td>\n",
       "      <td>7.2500</td>\n",
       "      <td>NaN</td>\n",
       "      <td>S</td>\n",
       "    </tr>\n",
       "    <tr>\n",
       "      <th>1</th>\n",
       "      <td>2</td>\n",
       "      <td>1</td>\n",
       "      <td>1</td>\n",
       "      <td>Cumings, Mrs. John Bradley (Florence Briggs Th...</td>\n",
       "      <td>female</td>\n",
       "      <td>38.0</td>\n",
       "      <td>1</td>\n",
       "      <td>0</td>\n",
       "      <td>PC 17599</td>\n",
       "      <td>71.2833</td>\n",
       "      <td>C85</td>\n",
       "      <td>C</td>\n",
       "    </tr>\n",
       "    <tr>\n",
       "      <th>2</th>\n",
       "      <td>3</td>\n",
       "      <td>1</td>\n",
       "      <td>3</td>\n",
       "      <td>Heikkinen, Miss. Laina</td>\n",
       "      <td>female</td>\n",
       "      <td>26.0</td>\n",
       "      <td>0</td>\n",
       "      <td>0</td>\n",
       "      <td>STON/O2. 3101282</td>\n",
       "      <td>7.9250</td>\n",
       "      <td>NaN</td>\n",
       "      <td>S</td>\n",
       "    </tr>\n",
       "    <tr>\n",
       "      <th>3</th>\n",
       "      <td>4</td>\n",
       "      <td>1</td>\n",
       "      <td>1</td>\n",
       "      <td>Futrelle, Mrs. Jacques Heath (Lily May Peel)</td>\n",
       "      <td>female</td>\n",
       "      <td>35.0</td>\n",
       "      <td>1</td>\n",
       "      <td>0</td>\n",
       "      <td>113803</td>\n",
       "      <td>53.1000</td>\n",
       "      <td>C123</td>\n",
       "      <td>S</td>\n",
       "    </tr>\n",
       "    <tr>\n",
       "      <th>4</th>\n",
       "      <td>5</td>\n",
       "      <td>0</td>\n",
       "      <td>3</td>\n",
       "      <td>Allen, Mr. William Henry</td>\n",
       "      <td>male</td>\n",
       "      <td>35.0</td>\n",
       "      <td>0</td>\n",
       "      <td>0</td>\n",
       "      <td>373450</td>\n",
       "      <td>8.0500</td>\n",
       "      <td>NaN</td>\n",
       "      <td>S</td>\n",
       "    </tr>\n",
       "  </tbody>\n",
       "</table>\n",
       "</div>"
      ],
      "text/plain": [
       "   PassengerId  Survived  Pclass  \\\n",
       "0            1         0       3   \n",
       "1            2         1       1   \n",
       "2            3         1       3   \n",
       "3            4         1       1   \n",
       "4            5         0       3   \n",
       "\n",
       "                                                Name     Sex   Age  SibSp  \\\n",
       "0                            Braund, Mr. Owen Harris    male  22.0      1   \n",
       "1  Cumings, Mrs. John Bradley (Florence Briggs Th...  female  38.0      1   \n",
       "2                             Heikkinen, Miss. Laina  female  26.0      0   \n",
       "3       Futrelle, Mrs. Jacques Heath (Lily May Peel)  female  35.0      1   \n",
       "4                           Allen, Mr. William Henry    male  35.0      0   \n",
       "\n",
       "   Parch            Ticket     Fare Cabin Embarked  \n",
       "0      0         A/5 21171   7.2500   NaN        S  \n",
       "1      0          PC 17599  71.2833   C85        C  \n",
       "2      0  STON/O2. 3101282   7.9250   NaN        S  \n",
       "3      0            113803  53.1000  C123        S  \n",
       "4      0            373450   8.0500   NaN        S  "
      ]
     },
     "execution_count": 19,
     "metadata": {},
     "output_type": "execute_result"
    }
   ],
   "source": [
    "titanic = pd.read_csv('./data/titanic.csv')\n",
    "titanic.head()"
   ]
  },
  {
   "cell_type": "code",
   "execution_count": 20,
   "metadata": {},
   "outputs": [],
   "source": [
    "X = titanic.drop(['PassengerId', 'Name', 'Survived'], axis=1)\n",
    "y = titanic['Survived']\n",
    "\n",
    "X_train, X_test, y_train, y_test = train_test_split(X, y, random_state=42)"
   ]
  },
  {
   "cell_type": "markdown",
   "metadata": {},
   "source": [
    "## Using `Pipeline` and `FunctionTransformer`"
   ]
  },
  {
   "cell_type": "markdown",
   "metadata": {},
   "source": [
    "Let's try a very simple pipeline first."
   ]
  },
  {
   "cell_type": "code",
   "execution_count": 21,
   "metadata": {},
   "outputs": [],
   "source": [
    "def grab_numeric(df):\n",
    "    return df.select_dtypes(include=['float', 'int'])"
   ]
  },
  {
   "cell_type": "code",
   "execution_count": 22,
   "metadata": {},
   "outputs": [],
   "source": [
    "# The FunctionTransformer will turn my function\n",
    "# into a transformer.\n",
    "\n",
    "GrabNumeric = FunctionTransformer(grab_numeric)"
   ]
  },
  {
   "cell_type": "code",
   "execution_count": 23,
   "metadata": {},
   "outputs": [],
   "source": [
    "# Pipe!\n",
    "\n",
    "pipe = Pipeline([\n",
    "    ('num', GrabNumeric),\n",
    "    ('ss', StandardScaler())\n",
    "])"
   ]
  },
  {
   "cell_type": "markdown",
   "metadata": {},
   "source": [
    "That looks like it worked!"
   ]
  },
  {
   "cell_type": "markdown",
   "metadata": {},
   "source": [
    "## Using `Pipeline` and `ColumnTransformer`"
   ]
  },
  {
   "cell_type": "markdown",
   "metadata": {},
   "source": [
    "When we use the `ColumnTransformer` we'll want to choose the relevant column numbers, so let's remind ourselves which columns are where:"
   ]
  },
  {
   "cell_type": "code",
   "execution_count": 24,
   "metadata": {},
   "outputs": [
    {
     "data": {
      "text/html": [
       "<div>\n",
       "<style scoped>\n",
       "    .dataframe tbody tr th:only-of-type {\n",
       "        vertical-align: middle;\n",
       "    }\n",
       "\n",
       "    .dataframe tbody tr th {\n",
       "        vertical-align: top;\n",
       "    }\n",
       "\n",
       "    .dataframe thead th {\n",
       "        text-align: right;\n",
       "    }\n",
       "</style>\n",
       "<table border=\"1\" class=\"dataframe\">\n",
       "  <thead>\n",
       "    <tr style=\"text-align: right;\">\n",
       "      <th></th>\n",
       "      <th>Pclass</th>\n",
       "      <th>Sex</th>\n",
       "      <th>Age</th>\n",
       "      <th>SibSp</th>\n",
       "      <th>Parch</th>\n",
       "      <th>Ticket</th>\n",
       "      <th>Fare</th>\n",
       "      <th>Cabin</th>\n",
       "      <th>Embarked</th>\n",
       "    </tr>\n",
       "  </thead>\n",
       "  <tbody>\n",
       "    <tr>\n",
       "      <th>0</th>\n",
       "      <td>3</td>\n",
       "      <td>male</td>\n",
       "      <td>22.0</td>\n",
       "      <td>1</td>\n",
       "      <td>0</td>\n",
       "      <td>A/5 21171</td>\n",
       "      <td>7.2500</td>\n",
       "      <td>NaN</td>\n",
       "      <td>S</td>\n",
       "    </tr>\n",
       "    <tr>\n",
       "      <th>1</th>\n",
       "      <td>1</td>\n",
       "      <td>female</td>\n",
       "      <td>38.0</td>\n",
       "      <td>1</td>\n",
       "      <td>0</td>\n",
       "      <td>PC 17599</td>\n",
       "      <td>71.2833</td>\n",
       "      <td>C85</td>\n",
       "      <td>C</td>\n",
       "    </tr>\n",
       "    <tr>\n",
       "      <th>2</th>\n",
       "      <td>3</td>\n",
       "      <td>female</td>\n",
       "      <td>26.0</td>\n",
       "      <td>0</td>\n",
       "      <td>0</td>\n",
       "      <td>STON/O2. 3101282</td>\n",
       "      <td>7.9250</td>\n",
       "      <td>NaN</td>\n",
       "      <td>S</td>\n",
       "    </tr>\n",
       "    <tr>\n",
       "      <th>3</th>\n",
       "      <td>1</td>\n",
       "      <td>female</td>\n",
       "      <td>35.0</td>\n",
       "      <td>1</td>\n",
       "      <td>0</td>\n",
       "      <td>113803</td>\n",
       "      <td>53.1000</td>\n",
       "      <td>C123</td>\n",
       "      <td>S</td>\n",
       "    </tr>\n",
       "    <tr>\n",
       "      <th>4</th>\n",
       "      <td>3</td>\n",
       "      <td>male</td>\n",
       "      <td>35.0</td>\n",
       "      <td>0</td>\n",
       "      <td>0</td>\n",
       "      <td>373450</td>\n",
       "      <td>8.0500</td>\n",
       "      <td>NaN</td>\n",
       "      <td>S</td>\n",
       "    </tr>\n",
       "  </tbody>\n",
       "</table>\n",
       "</div>"
      ],
      "text/plain": [
       "   Pclass     Sex   Age  SibSp  Parch            Ticket     Fare Cabin  \\\n",
       "0       3    male  22.0      1      0         A/5 21171   7.2500   NaN   \n",
       "1       1  female  38.0      1      0          PC 17599  71.2833   C85   \n",
       "2       3  female  26.0      0      0  STON/O2. 3101282   7.9250   NaN   \n",
       "3       1  female  35.0      1      0            113803  53.1000  C123   \n",
       "4       3    male  35.0      0      0            373450   8.0500   NaN   \n",
       "\n",
       "  Embarked  \n",
       "0        S  \n",
       "1        C  \n",
       "2        S  \n",
       "3        S  \n",
       "4        S  "
      ]
     },
     "execution_count": 24,
     "metadata": {},
     "output_type": "execute_result"
    }
   ],
   "source": [
    "X.head()"
   ]
  },
  {
   "cell_type": "code",
   "execution_count": 25,
   "metadata": {},
   "outputs": [
    {
     "name": "stdout",
     "output_type": "stream",
     "text": [
      "<class 'pandas.core.frame.DataFrame'>\n",
      "RangeIndex: 891 entries, 0 to 890\n",
      "Data columns (total 9 columns):\n",
      " #   Column    Non-Null Count  Dtype  \n",
      "---  ------    --------------  -----  \n",
      " 0   Pclass    891 non-null    int64  \n",
      " 1   Sex       891 non-null    object \n",
      " 2   Age       714 non-null    float64\n",
      " 3   SibSp     891 non-null    int64  \n",
      " 4   Parch     891 non-null    int64  \n",
      " 5   Ticket    891 non-null    object \n",
      " 6   Fare      891 non-null    float64\n",
      " 7   Cabin     204 non-null    object \n",
      " 8   Embarked  889 non-null    object \n",
      "dtypes: float64(2), int64(3), object(4)\n",
      "memory usage: 62.8+ KB\n"
     ]
    }
   ],
   "source": [
    "X.info()"
   ]
  },
  {
   "cell_type": "code",
   "execution_count": 36,
   "metadata": {},
   "outputs": [],
   "source": [
    "X_demo = X.copy()"
   ]
  },
  {
   "cell_type": "code",
   "execution_count": 37,
   "metadata": {},
   "outputs": [],
   "source": [
    "X_demo.Pclass = X_demo.Pclass.astype(object) \n",
    "\n",
    "# Change datatype to object so its captured in cat_pipe not num_pipe"
   ]
  },
  {
   "cell_type": "code",
   "execution_count": 26,
   "metadata": {},
   "outputs": [],
   "source": [
    "# We'll throw these mini-pipelines into our ColumnTransformer: numeric and categorical\n",
    "\n",
    "\n",
    "# numbers (Age, Fare, SibSp, Parch)\n",
    "  # Nulls -->\n",
    "    # scale, impute \n",
    "\n",
    "# categorical (sex, embarked, pclass)\n",
    "# OHE, impute"
   ]
  },
  {
   "cell_type": "code",
   "execution_count": 27,
   "metadata": {},
   "outputs": [],
   "source": [
    "# Numeric Pipeline\n",
    "\n",
    "num_pipe = Pipeline([\n",
    "    ('num_impute', SimpleImputer(strategy='mean')),\n",
    "    ('ss', StandardScaler()),\n",
    "])"
   ]
  },
  {
   "cell_type": "code",
   "execution_count": 30,
   "metadata": {},
   "outputs": [],
   "source": [
    "# Categorical Pipeline\n",
    "\n",
    "cat_pipe = Pipeline([\n",
    "    ('cat_impute', SimpleImputer(strategy='most_frequent')),\n",
    "    ('ohe', OneHotEncoder(sparse=False, handle_unknown='ignore')) \n",
    "    # last parameter (of above) is standard for pipelines\n",
    "])"
   ]
  },
  {
   "cell_type": "markdown",
   "metadata": {},
   "source": [
    "### Selector!!!!\n",
    "\n",
    "[This](https://scikit-learn.org/stable/modules/generated/sklearn.compose.make_column_selector.html#sklearn.compose.make_column_selector) will return a callable list of columns"
   ]
  },
  {
   "cell_type": "code",
   "execution_count": 31,
   "metadata": {},
   "outputs": [],
   "source": [
    "# Selector!\n",
    "\n",
    "test = selector(dtype_include=object)"
   ]
  },
  {
   "cell_type": "code",
   "execution_count": 32,
   "metadata": {},
   "outputs": [
    {
     "data": {
      "text/plain": [
       "['Sex', 'Ticket', 'Cabin', 'Embarked']"
      ]
     },
     "execution_count": 32,
     "metadata": {},
     "output_type": "execute_result"
    }
   ],
   "source": [
    "test(X)"
   ]
  },
  {
   "cell_type": "code",
   "execution_count": 33,
   "metadata": {},
   "outputs": [],
   "source": [
    "#format of transfomers = ['name', 'transformer', 'columns']\n",
    "\n",
    "CT = ColumnTransformer(transformers=[\n",
    "    ('num_tr', num_pipe, selector(dtype_include=np.number)),\n",
    "    ('cat_tr', cat_pipe, selector(dtype_include=object)),\n",
    "], remainder='passthrough')\n",
    "\n",
    "# The \"remainder='passthrough'\" bit tells the compiler to leave\n",
    "# the other df columns unchanged."
   ]
  },
  {
   "cell_type": "code",
   "execution_count": null,
   "metadata": {},
   "outputs": [],
   "source": [
    "# The `ColumnTransformer` will take care of our preprocessing,\n",
    "# so now we can add our model at the end of the pipeline.\n"
   ]
  },
  {
   "cell_type": "markdown",
   "metadata": {},
   "source": [
    "## Bringing in Our Modeling Class from before"
   ]
  },
  {
   "cell_type": "code",
   "execution_count": 38,
   "metadata": {},
   "outputs": [],
   "source": [
    "class ModelWithCV():\n",
    "    '''Structure to save the model and more easily see its crossvalidation'''\n",
    "    \n",
    "    def __init__(self, model, model_name, X, y, cv_now=True):\n",
    "        self.model = model\n",
    "        self.name = model_name\n",
    "        self.X = X\n",
    "        self.y = y\n",
    "        # For CV results\n",
    "        self.cv_results = None\n",
    "        self.cv_mean = None\n",
    "        self.cv_median = None\n",
    "        self.cv_std = None\n",
    "        #\n",
    "        if cv_now:\n",
    "            self.cross_validate()\n",
    "        \n",
    "    def cross_validate(self, X=None, y=None, kfolds=10):\n",
    "        '''\n",
    "        Perform cross-validation and return results.\n",
    "        \n",
    "        Args: \n",
    "          X:\n",
    "            Optional; Training data to perform CV on. Otherwise use X from object\n",
    "          y:\n",
    "            Optional; Training data to perform CV on. Otherwise use y from object\n",
    "          kfolds:\n",
    "            Optional; Number of folds for CV (default is 10)  \n",
    "        '''\n",
    "        \n",
    "        cv_X = X if X else self.X\n",
    "        cv_y = y if y else self.y\n",
    "\n",
    "        self.cv_results = cross_val_score(self.model, cv_X, cv_y, cv=kfolds)\n",
    "        self.cv_mean = np.mean(self.cv_results)\n",
    "        self.cv_median = np.median(self.cv_results)\n",
    "        self.cv_std = np.std(self.cv_results)\n",
    "\n",
    "        \n",
    "    def print_cv_summary(self):\n",
    "        cv_summary = (\n",
    "        f'''CV Results for `{self.name}` model:\n",
    "            {self.cv_mean:.5f} ± {self.cv_std:.5f} accuracy\n",
    "        ''')\n",
    "        print(cv_summary)\n",
    "\n",
    "        \n",
    "    def plot_cv(self, ax):\n",
    "        '''\n",
    "        Plot the cross-validation values using the array of results and given \n",
    "        Axis for plotting.\n",
    "        '''\n",
    "        ax.set_title(f'CV Results for `{self.name}` Model')\n",
    "        # Thinner violinplot with higher bw\n",
    "        sns.violinplot(y=self.cv_results, ax=ax, bw=.4)\n",
    "        sns.swarmplot(\n",
    "                y=self.cv_results,\n",
    "                color='orange',\n",
    "                size=10,\n",
    "                alpha= 0.8,\n",
    "                ax=ax\n",
    "        )\n",
    "\n",
    "        return ax"
   ]
  },
  {
   "cell_type": "code",
   "execution_count": 41,
   "metadata": {},
   "outputs": [],
   "source": [
    "# Create Dummy/Baseline\n",
    "\n",
    "dummy_model = Pipeline([\n",
    "    ('ct', CT),\n",
    "    ('dummy', DummyClassifier(strategy='most_frequent'))\n",
    "])"
   ]
  },
  {
   "cell_type": "code",
   "execution_count": 43,
   "metadata": {},
   "outputs": [],
   "source": [
    "# Use the class with out dummy pipe\n",
    "\n",
    "dummy_model_pipe = ModelWithCV(dummy_model, model_name = 'dummy', X=X_train, y=y_train)"
   ]
  },
  {
   "cell_type": "code",
   "execution_count": 45,
   "metadata": {},
   "outputs": [
    {
     "name": "stdout",
     "output_type": "stream",
     "text": [
      "CV Results for `dummy` model:\n",
      "            0.62126 ± 0.00646 accuracy\n",
      "        \n"
     ]
    }
   ],
   "source": [
    "dummy_model_pipe.print_cv_summary()"
   ]
  },
  {
   "cell_type": "code",
   "execution_count": 46,
   "metadata": {},
   "outputs": [
    {
     "data": {
      "text/plain": [
       "<AxesSubplot:title={'center':'CV Results for `dummy` Model'}>"
      ]
     },
     "execution_count": 46,
     "metadata": {},
     "output_type": "execute_result"
    },
    {
     "data": {
      "image/png": "[encoded data removed]",
      "text/plain": [
       "<Figure size 432x288 with 1 Axes>"
      ]
     },
     "metadata": {
      "needs_background": "light"
     },
     "output_type": "display_data"
    }
   ],
   "source": [
    "fig, ax = plt.subplots()\n",
    "\n",
    "dummy_model_pipe.plot_cv(ax=ax)"
   ]
  },
  {
   "cell_type": "code",
   "execution_count": 49,
   "metadata": {},
   "outputs": [],
   "source": [
    "# Create FSM (First Simple Model)\n",
    "\n",
    "logreg = Pipeline([\n",
    "    ('ct',CT),\n",
    "    ('logreg', LogisticRegression(random_state=42))\n",
    "])"
   ]
  },
  {
   "cell_type": "code",
   "execution_count": 50,
   "metadata": {},
   "outputs": [],
   "source": [
    "fsm_model_pipe = ModelWithCV(logreg, model_name = 'fsm', X=X_train, y=y_train)"
   ]
  },
  {
   "cell_type": "code",
   "execution_count": null,
   "metadata": {},
   "outputs": [],
   "source": [
    "# Use the class with out logreg pipe\n"
   ]
  },
  {
   "cell_type": "markdown",
   "metadata": {},
   "source": [
    "## Trying Other Models at the End of the Pipeline"
   ]
  },
  {
   "cell_type": "markdown",
   "metadata": {},
   "source": [
    "Can I have multiple models in a single pipeline? Yes. We'll forgo this here, but for more on this see [here](https://stackoverflow.com/questions/48507651/multiple-classification-models-in-a-scikit-pipeline-python)."
   ]
  },
  {
   "cell_type": "markdown",
   "metadata": {},
   "source": [
    "### Random Forest"
   ]
  },
  {
   "cell_type": "code",
   "execution_count": 52,
   "metadata": {},
   "outputs": [
    {
     "data": {
      "text/plain": [
       "<AxesSubplot:title={'center':'CV Results for `forest_pipe` Model'}>"
      ]
     },
     "execution_count": 52,
     "metadata": {},
     "output_type": "execute_result"
    },
    {
     "data": {
      "image/png": "[encoded data removed]",
      "text/plain": [
       "<Figure size 432x288 with 1 Axes>"
      ]
     },
     "metadata": {
      "needs_background": "light"
     },
     "output_type": "display_data"
    }
   ],
   "source": [
    "# rfc!\n",
    "\n",
    "rfc = RandomForestClassifier(random_state=42)\n",
    "\n",
    "rfc_model_pipe = Pipeline([\n",
    "    ('ct', CT),\n",
    "    ('rfc', rfc)\n",
    "])\n",
    "\n",
    "forest_pipe = ModelWithCV(model=rfc_model_pipe,\n",
    "                         model_name=\"forest_pipe\",\n",
    "                         X=X_train,\n",
    "                          y=y_train)\n",
    "\n",
    "fig, ax = plt.subplots()\n",
    "\n",
    "forest_pipe.plot_cv(ax=ax)"
   ]
  },
  {
   "cell_type": "markdown",
   "metadata": {},
   "source": [
    "### Gradient Booster"
   ]
  },
  {
   "cell_type": "code",
   "execution_count": null,
   "metadata": {},
   "outputs": [],
   "source": [
    "# gbc!\n",
    "\n",
    "gbc_model_pipe = Pipeline([\n",
    "    ('ct', CT), \n",
    "    ('gbc', GradientBoostingClassifier(random_state=42))\n",
    "])\n",
    "\n",
    "gbc_pipe = ModelWithCV(model=gbc_model_pipe,\n",
    "                       model_name=\"gbc_pipe\",\n",
    "                       X=X_train,\n",
    "                       y=y_train)\n",
    "\n",
    "fig, ax = plt.subplots()\n",
    "\n",
    "forest_pipe.plot_cv(ax=ax)"
   ]
  },
  {
   "cell_type": "markdown",
   "metadata": {},
   "source": [
    "## Tuning and Cross-Validating"
   ]
  },
  {
   "cell_type": "code",
   "execution_count": 53,
   "metadata": {
    "scrolled": false
   },
   "outputs": [
    {
     "data": {
      "text/plain": [
       "Pipeline(steps=[('ct',\n",
       "                 ColumnTransformer(remainder='passthrough',\n",
       "                                   transformers=[('num_tr',\n",
       "                                                  Pipeline(steps=[('num_impute',\n",
       "                                                                   SimpleImputer()),\n",
       "                                                                  ('ss',\n",
       "                                                                   StandardScaler())]),\n",
       "                                                  <sklearn.compose._column_transformer.make_column_selector object at 0x7fc098521700>),\n",
       "                                                 ('cat_tr',\n",
       "                                                  Pipeline(steps=[('cat_impute',\n",
       "                                                                   SimpleImputer(strategy='most_frequent')),\n",
       "                                                                  ('ohe',\n",
       "                                                                   OneHotEncoder(handle_unknown='ignore',\n",
       "                                                                                 sparse=False))]),\n",
       "                                                  <sklearn.compose._column_transformer.make_column_selector object at 0x7fc098521f40>)])),\n",
       "                ('rfc', RandomForestClassifier(random_state=42))])"
      ]
     },
     "execution_count": 53,
     "metadata": {},
     "output_type": "execute_result"
    }
   ],
   "source": [
    "# GridSearch?\n",
    "\n",
    "rfc_model_pipe"
   ]
  },
  {
   "cell_type": "code",
   "execution_count": null,
   "metadata": {},
   "outputs": [],
   "source": [
    "SimpleImputer()"
   ]
  },
  {
   "cell_type": "code",
   "execution_count": 56,
   "metadata": {},
   "outputs": [],
   "source": [
    "params = {\n",
    "    'ct__num_tr__num_impute__strategy' : ['mean', 'median'],\n",
    "    'rfc__criterion':['gini','entropy'],\n",
    "    'rfc__max_depth':[1,3,5]\n",
    "}"
   ]
  },
  {
   "cell_type": "code",
   "execution_count": 57,
   "metadata": {},
   "outputs": [],
   "source": [
    "gs = GridSearchCV(estimator=rfc_model_pipe, param_grid=params, cv=10, verbose=2)"
   ]
  },
  {
   "cell_type": "code",
   "execution_count": 58,
   "metadata": {},
   "outputs": [
    {
     "name": "stdout",
     "output_type": "stream",
     "text": [
      "Fitting 10 folds for each of 12 candidates, totalling 120 fits\n",
      "[CV] ct__num_tr__num_impute__strategy=mean, rfc__criterion=gini, rfc__max_depth=1 \n",
      "[CV]  ct__num_tr__num_impute__strategy=mean, rfc__criterion=gini, rfc__max_depth=1, total=   0.1s\n",
      "[CV] ct__num_tr__num_impute__strategy=mean, rfc__criterion=gini, rfc__max_depth=1 \n"
     ]
    },
    {
     "name": "stderr",
     "output_type": "stream",
     "text": [
      "[Parallel(n_jobs=1)]: Using backend SequentialBackend with 1 concurrent workers.\n",
      "[Parallel(n_jobs=1)]: Done   1 out of   1 | elapsed:    0.1s remaining:    0.0s\n"
     ]
    },
    {
     "name": "stdout",
     "output_type": "stream",
     "text": [
      "[CV]  ct__num_tr__num_impute__strategy=mean, rfc__criterion=gini, rfc__max_depth=1, total=   0.1s\n",
      "[CV] ct__num_tr__num_impute__strategy=mean, rfc__criterion=gini, rfc__max_depth=1 \n",
      "[CV]  ct__num_tr__num_impute__strategy=mean, rfc__criterion=gini, rfc__max_depth=1, total=   0.1s\n",
      "[CV] ct__num_tr__num_impute__strategy=mean, rfc__criterion=gini, rfc__max_depth=1 \n",
      "[CV]  ct__num_tr__num_impute__strategy=mean, rfc__criterion=gini, rfc__max_depth=1, total=   0.1s\n",
      "[CV] ct__num_tr__num_impute__strategy=mean, rfc__criterion=gini, rfc__max_depth=1 \n",
      "[CV]  ct__num_tr__num_impute__strategy=mean, rfc__criterion=gini, rfc__max_depth=1, total=   0.1s\n",
      "[CV] ct__num_tr__num_impute__strategy=mean, rfc__criterion=gini, rfc__max_depth=1 \n",
      "[CV]  ct__num_tr__num_impute__strategy=mean, rfc__criterion=gini, rfc__max_depth=1, total=   0.1s\n",
      "[CV] ct__num_tr__num_impute__strategy=mean, rfc__criterion=gini, rfc__max_depth=1 \n",
      "[CV]  ct__num_tr__num_impute__strategy=mean, rfc__criterion=gini, rfc__max_depth=1, total=   0.1s\n",
      "[CV] ct__num_tr__num_impute__strategy=mean, rfc__criterion=gini, rfc__max_depth=1 \n",
      "[CV]  ct__num_tr__num_impute__strategy=mean, rfc__criterion=gini, rfc__max_depth=1, total=   0.1s\n",
      "[CV] ct__num_tr__num_impute__strategy=mean, rfc__criterion=gini, rfc__max_depth=1 \n",
      "[CV]  ct__num_tr__num_impute__strategy=mean, rfc__criterion=gini, rfc__max_depth=1, total=   0.1s\n",
      "[CV] ct__num_tr__num_impute__strategy=mean, rfc__criterion=gini, rfc__max_depth=1 \n",
      "[CV]  ct__num_tr__num_impute__strategy=mean, rfc__criterion=gini, rfc__max_depth=1, total=   0.1s\n",
      "[CV] ct__num_tr__num_impute__strategy=mean, rfc__criterion=gini, rfc__max_depth=3 \n",
      "[CV]  ct__num_tr__num_impute__strategy=mean, rfc__criterion=gini, rfc__max_depth=3, total=   0.1s\n",
      "[CV] ct__num_tr__num_impute__strategy=mean, rfc__criterion=gini, rfc__max_depth=3 \n",
      "[CV]  ct__num_tr__num_impute__strategy=mean, rfc__criterion=gini, rfc__max_depth=3, total=   0.1s\n",
      "[CV] ct__num_tr__num_impute__strategy=mean, rfc__criterion=gini, rfc__max_depth=3 \n",
      "[CV]  ct__num_tr__num_impute__strategy=mean, rfc__criterion=gini, rfc__max_depth=3, total=   0.1s\n",
      "[CV] ct__num_tr__num_impute__strategy=mean, rfc__criterion=gini, rfc__max_depth=3 \n",
      "[CV]  ct__num_tr__num_impute__strategy=mean, rfc__criterion=gini, rfc__max_depth=3, total=   0.1s\n",
      "[CV] ct__num_tr__num_impute__strategy=mean, rfc__criterion=gini, rfc__max_depth=3 \n",
      "[CV]  ct__num_tr__num_impute__strategy=mean, rfc__criterion=gini, rfc__max_depth=3, total=   0.1s\n",
      "[CV] ct__num_tr__num_impute__strategy=mean, rfc__criterion=gini, rfc__max_depth=3 \n",
      "[CV]  ct__num_tr__num_impute__strategy=mean, rfc__criterion=gini, rfc__max_depth=3, total=   0.1s\n",
      "[CV] ct__num_tr__num_impute__strategy=mean, rfc__criterion=gini, rfc__max_depth=3 \n",
      "[CV]  ct__num_tr__num_impute__strategy=mean, rfc__criterion=gini, rfc__max_depth=3, total=   0.1s\n",
      "[CV] ct__num_tr__num_impute__strategy=mean, rfc__criterion=gini, rfc__max_depth=3 \n",
      "[CV]  ct__num_tr__num_impute__strategy=mean, rfc__criterion=gini, rfc__max_depth=3, total=   0.1s\n",
      "[CV] ct__num_tr__num_impute__strategy=mean, rfc__criterion=gini, rfc__max_depth=3 \n",
      "[CV]  ct__num_tr__num_impute__strategy=mean, rfc__criterion=gini, rfc__max_depth=3, total=   0.1s\n",
      "[CV] ct__num_tr__num_impute__strategy=mean, rfc__criterion=gini, rfc__max_depth=3 \n",
      "[CV]  ct__num_tr__num_impute__strategy=mean, rfc__criterion=gini, rfc__max_depth=3, total=   0.1s\n",
      "[CV] ct__num_tr__num_impute__strategy=mean, rfc__criterion=gini, rfc__max_depth=5 \n",
      "[CV]  ct__num_tr__num_impute__strategy=mean, rfc__criterion=gini, rfc__max_depth=5, total=   0.1s\n",
      "[CV] ct__num_tr__num_impute__strategy=mean, rfc__criterion=gini, rfc__max_depth=5 \n",
      "[CV]  ct__num_tr__num_impute__strategy=mean, rfc__criterion=gini, rfc__max_depth=5, total=   0.1s\n",
      "[CV] ct__num_tr__num_impute__strategy=mean, rfc__criterion=gini, rfc__max_depth=5 \n",
      "[CV]  ct__num_tr__num_impute__strategy=mean, rfc__criterion=gini, rfc__max_depth=5, total=   0.1s\n",
      "[CV] ct__num_tr__num_impute__strategy=mean, rfc__criterion=gini, rfc__max_depth=5 \n",
      "[CV]  ct__num_tr__num_impute__strategy=mean, rfc__criterion=gini, rfc__max_depth=5, total=   0.1s\n",
      "[CV] ct__num_tr__num_impute__strategy=mean, rfc__criterion=gini, rfc__max_depth=5 \n",
      "[CV]  ct__num_tr__num_impute__strategy=mean, rfc__criterion=gini, rfc__max_depth=5, total=   0.1s\n",
      "[CV] ct__num_tr__num_impute__strategy=mean, rfc__criterion=gini, rfc__max_depth=5 \n",
      "[CV]  ct__num_tr__num_impute__strategy=mean, rfc__criterion=gini, rfc__max_depth=5, total=   0.1s\n",
      "[CV] ct__num_tr__num_impute__strategy=mean, rfc__criterion=gini, rfc__max_depth=5 \n",
      "[CV]  ct__num_tr__num_impute__strategy=mean, rfc__criterion=gini, rfc__max_depth=5, total=   0.1s\n",
      "[CV] ct__num_tr__num_impute__strategy=mean, rfc__criterion=gini, rfc__max_depth=5 \n",
      "[CV]  ct__num_tr__num_impute__strategy=mean, rfc__criterion=gini, rfc__max_depth=5, total=   0.1s\n",
      "[CV] ct__num_tr__num_impute__strategy=mean, rfc__criterion=gini, rfc__max_depth=5 \n",
      "[CV]  ct__num_tr__num_impute__strategy=mean, rfc__criterion=gini, rfc__max_depth=5, total=   0.1s\n",
      "[CV] ct__num_tr__num_impute__strategy=mean, rfc__criterion=gini, rfc__max_depth=5 \n",
      "[CV]  ct__num_tr__num_impute__strategy=mean, rfc__criterion=gini, rfc__max_depth=5, total=   0.1s\n",
      "[CV] ct__num_tr__num_impute__strategy=mean, rfc__criterion=entropy, rfc__max_depth=1 \n",
      "[CV]  ct__num_tr__num_impute__strategy=mean, rfc__criterion=entropy, rfc__max_depth=1, total=   0.1s\n",
      "[CV] ct__num_tr__num_impute__strategy=mean, rfc__criterion=entropy, rfc__max_depth=1 \n",
      "[CV]  ct__num_tr__num_impute__strategy=mean, rfc__criterion=entropy, rfc__max_depth=1, total=   0.1s\n",
      "[CV] ct__num_tr__num_impute__strategy=mean, rfc__criterion=entropy, rfc__max_depth=1 \n",
      "[CV]  ct__num_tr__num_impute__strategy=mean, rfc__criterion=entropy, rfc__max_depth=1, total=   0.1s\n",
      "[CV] ct__num_tr__num_impute__strategy=mean, rfc__criterion=entropy, rfc__max_depth=1 \n",
      "[CV]  ct__num_tr__num_impute__strategy=mean, rfc__criterion=entropy, rfc__max_depth=1, total=   0.1s\n",
      "[CV] ct__num_tr__num_impute__strategy=mean, rfc__criterion=entropy, rfc__max_depth=1 \n",
      "[CV]  ct__num_tr__num_impute__strategy=mean, rfc__criterion=entropy, rfc__max_depth=1, total=   0.1s\n",
      "[CV] ct__num_tr__num_impute__strategy=mean, rfc__criterion=entropy, rfc__max_depth=1 \n",
      "[CV]  ct__num_tr__num_impute__strategy=mean, rfc__criterion=entropy, rfc__max_depth=1, total=   0.1s\n",
      "[CV] ct__num_tr__num_impute__strategy=mean, rfc__criterion=entropy, rfc__max_depth=1 \n",
      "[CV]  ct__num_tr__num_impute__strategy=mean, rfc__criterion=entropy, rfc__max_depth=1, total=   0.1s\n",
      "[CV] ct__num_tr__num_impute__strategy=mean, rfc__criterion=entropy, rfc__max_depth=1 \n",
      "[CV]  ct__num_tr__num_impute__strategy=mean, rfc__criterion=entropy, rfc__max_depth=1, total=   0.1s\n",
      "[CV] ct__num_tr__num_impute__strategy=mean, rfc__criterion=entropy, rfc__max_depth=1 \n",
      "[CV]  ct__num_tr__num_impute__strategy=mean, rfc__criterion=entropy, rfc__max_depth=1, total=   0.1s\n",
      "[CV] ct__num_tr__num_impute__strategy=mean, rfc__criterion=entropy, rfc__max_depth=1 \n",
      "[CV]  ct__num_tr__num_impute__strategy=mean, rfc__criterion=entropy, rfc__max_depth=1, total=   0.1s\n",
      "[CV] ct__num_tr__num_impute__strategy=mean, rfc__criterion=entropy, rfc__max_depth=3 \n",
      "[CV]  ct__num_tr__num_impute__strategy=mean, rfc__criterion=entropy, rfc__max_depth=3, total=   0.1s\n",
      "[CV] ct__num_tr__num_impute__strategy=mean, rfc__criterion=entropy, rfc__max_depth=3 \n",
      "[CV]  ct__num_tr__num_impute__strategy=mean, rfc__criterion=entropy, rfc__max_depth=3, total=   0.1s\n",
      "[CV] ct__num_tr__num_impute__strategy=mean, rfc__criterion=entropy, rfc__max_depth=3 \n",
      "[CV]  ct__num_tr__num_impute__strategy=mean, rfc__criterion=entropy, rfc__max_depth=3, total=   0.1s\n",
      "[CV] ct__num_tr__num_impute__strategy=mean, rfc__criterion=entropy, rfc__max_depth=3 \n",
      "[CV]  ct__num_tr__num_impute__strategy=mean, rfc__criterion=entropy, rfc__max_depth=3, total=   0.1s\n",
      "[CV] ct__num_tr__num_impute__strategy=mean, rfc__criterion=entropy, rfc__max_depth=3 \n",
      "[CV]  ct__num_tr__num_impute__strategy=mean, rfc__criterion=entropy, rfc__max_depth=3, total=   0.1s\n",
      "[CV] ct__num_tr__num_impute__strategy=mean, rfc__criterion=entropy, rfc__max_depth=3 \n",
      "[CV]  ct__num_tr__num_impute__strategy=mean, rfc__criterion=entropy, rfc__max_depth=3, total=   0.1s\n",
      "[CV] ct__num_tr__num_impute__strategy=mean, rfc__criterion=entropy, rfc__max_depth=3 \n",
      "[CV]  ct__num_tr__num_impute__strategy=mean, rfc__criterion=entropy, rfc__max_depth=3, total=   0.1s\n",
      "[CV] ct__num_tr__num_impute__strategy=mean, rfc__criterion=entropy, rfc__max_depth=3 \n"
     ]
    },
    {
     "name": "stdout",
     "output_type": "stream",
     "text": [
      "[CV]  ct__num_tr__num_impute__strategy=mean, rfc__criterion=entropy, rfc__max_depth=3, total=   0.1s\n",
      "[CV] ct__num_tr__num_impute__strategy=mean, rfc__criterion=entropy, rfc__max_depth=3 \n",
      "[CV]  ct__num_tr__num_impute__strategy=mean, rfc__criterion=entropy, rfc__max_depth=3, total=   0.1s\n",
      "[CV] ct__num_tr__num_impute__strategy=mean, rfc__criterion=entropy, rfc__max_depth=3 \n",
      "[CV]  ct__num_tr__num_impute__strategy=mean, rfc__criterion=entropy, rfc__max_depth=3, total=   0.1s\n",
      "[CV] ct__num_tr__num_impute__strategy=mean, rfc__criterion=entropy, rfc__max_depth=5 \n",
      "[CV]  ct__num_tr__num_impute__strategy=mean, rfc__criterion=entropy, rfc__max_depth=5, total=   0.1s\n",
      "[CV] ct__num_tr__num_impute__strategy=mean, rfc__criterion=entropy, rfc__max_depth=5 \n",
      "[CV]  ct__num_tr__num_impute__strategy=mean, rfc__criterion=entropy, rfc__max_depth=5, total=   0.1s\n",
      "[CV] ct__num_tr__num_impute__strategy=mean, rfc__criterion=entropy, rfc__max_depth=5 \n",
      "[CV]  ct__num_tr__num_impute__strategy=mean, rfc__criterion=entropy, rfc__max_depth=5, total=   0.1s\n",
      "[CV] ct__num_tr__num_impute__strategy=mean, rfc__criterion=entropy, rfc__max_depth=5 \n",
      "[CV]  ct__num_tr__num_impute__strategy=mean, rfc__criterion=entropy, rfc__max_depth=5, total=   0.1s\n",
      "[CV] ct__num_tr__num_impute__strategy=mean, rfc__criterion=entropy, rfc__max_depth=5 \n",
      "[CV]  ct__num_tr__num_impute__strategy=mean, rfc__criterion=entropy, rfc__max_depth=5, total=   0.1s\n",
      "[CV] ct__num_tr__num_impute__strategy=mean, rfc__criterion=entropy, rfc__max_depth=5 \n",
      "[CV]  ct__num_tr__num_impute__strategy=mean, rfc__criterion=entropy, rfc__max_depth=5, total=   0.1s\n",
      "[CV] ct__num_tr__num_impute__strategy=mean, rfc__criterion=entropy, rfc__max_depth=5 \n",
      "[CV]  ct__num_tr__num_impute__strategy=mean, rfc__criterion=entropy, rfc__max_depth=5, total=   0.1s\n",
      "[CV] ct__num_tr__num_impute__strategy=mean, rfc__criterion=entropy, rfc__max_depth=5 \n",
      "[CV]  ct__num_tr__num_impute__strategy=mean, rfc__criterion=entropy, rfc__max_depth=5, total=   0.1s\n",
      "[CV] ct__num_tr__num_impute__strategy=mean, rfc__criterion=entropy, rfc__max_depth=5 \n",
      "[CV]  ct__num_tr__num_impute__strategy=mean, rfc__criterion=entropy, rfc__max_depth=5, total=   0.1s\n",
      "[CV] ct__num_tr__num_impute__strategy=mean, rfc__criterion=entropy, rfc__max_depth=5 \n",
      "[CV]  ct__num_tr__num_impute__strategy=mean, rfc__criterion=entropy, rfc__max_depth=5, total=   0.1s\n",
      "[CV] ct__num_tr__num_impute__strategy=median, rfc__criterion=gini, rfc__max_depth=1 \n",
      "[CV]  ct__num_tr__num_impute__strategy=median, rfc__criterion=gini, rfc__max_depth=1, total=   0.1s\n",
      "[CV] ct__num_tr__num_impute__strategy=median, rfc__criterion=gini, rfc__max_depth=1 \n",
      "[CV]  ct__num_tr__num_impute__strategy=median, rfc__criterion=gini, rfc__max_depth=1, total=   0.1s\n",
      "[CV] ct__num_tr__num_impute__strategy=median, rfc__criterion=gini, rfc__max_depth=1 \n",
      "[CV]  ct__num_tr__num_impute__strategy=median, rfc__criterion=gini, rfc__max_depth=1, total=   0.1s\n",
      "[CV] ct__num_tr__num_impute__strategy=median, rfc__criterion=gini, rfc__max_depth=1 \n",
      "[CV]  ct__num_tr__num_impute__strategy=median, rfc__criterion=gini, rfc__max_depth=1, total=   0.1s\n",
      "[CV] ct__num_tr__num_impute__strategy=median, rfc__criterion=gini, rfc__max_depth=1 \n",
      "[CV]  ct__num_tr__num_impute__strategy=median, rfc__criterion=gini, rfc__max_depth=1, total=   0.1s\n",
      "[CV] ct__num_tr__num_impute__strategy=median, rfc__criterion=gini, rfc__max_depth=1 \n",
      "[CV]  ct__num_tr__num_impute__strategy=median, rfc__criterion=gini, rfc__max_depth=1, total=   0.1s\n",
      "[CV] ct__num_tr__num_impute__strategy=median, rfc__criterion=gini, rfc__max_depth=1 \n",
      "[CV]  ct__num_tr__num_impute__strategy=median, rfc__criterion=gini, rfc__max_depth=1, total=   0.1s\n",
      "[CV] ct__num_tr__num_impute__strategy=median, rfc__criterion=gini, rfc__max_depth=1 \n",
      "[CV]  ct__num_tr__num_impute__strategy=median, rfc__criterion=gini, rfc__max_depth=1, total=   0.1s\n",
      "[CV] ct__num_tr__num_impute__strategy=median, rfc__criterion=gini, rfc__max_depth=1 \n",
      "[CV]  ct__num_tr__num_impute__strategy=median, rfc__criterion=gini, rfc__max_depth=1, total=   0.1s\n",
      "[CV] ct__num_tr__num_impute__strategy=median, rfc__criterion=gini, rfc__max_depth=1 \n",
      "[CV]  ct__num_tr__num_impute__strategy=median, rfc__criterion=gini, rfc__max_depth=1, total=   0.1s\n",
      "[CV] ct__num_tr__num_impute__strategy=median, rfc__criterion=gini, rfc__max_depth=3 \n",
      "[CV]  ct__num_tr__num_impute__strategy=median, rfc__criterion=gini, rfc__max_depth=3, total=   0.1s\n",
      "[CV] ct__num_tr__num_impute__strategy=median, rfc__criterion=gini, rfc__max_depth=3 \n",
      "[CV]  ct__num_tr__num_impute__strategy=median, rfc__criterion=gini, rfc__max_depth=3, total=   0.1s\n",
      "[CV] ct__num_tr__num_impute__strategy=median, rfc__criterion=gini, rfc__max_depth=3 \n",
      "[CV]  ct__num_tr__num_impute__strategy=median, rfc__criterion=gini, rfc__max_depth=3, total=   0.1s\n",
      "[CV] ct__num_tr__num_impute__strategy=median, rfc__criterion=gini, rfc__max_depth=3 \n",
      "[CV]  ct__num_tr__num_impute__strategy=median, rfc__criterion=gini, rfc__max_depth=3, total=   0.1s\n",
      "[CV] ct__num_tr__num_impute__strategy=median, rfc__criterion=gini, rfc__max_depth=3 \n",
      "[CV]  ct__num_tr__num_impute__strategy=median, rfc__criterion=gini, rfc__max_depth=3, total=   0.1s\n",
      "[CV] ct__num_tr__num_impute__strategy=median, rfc__criterion=gini, rfc__max_depth=3 \n",
      "[CV]  ct__num_tr__num_impute__strategy=median, rfc__criterion=gini, rfc__max_depth=3, total=   0.1s\n",
      "[CV] ct__num_tr__num_impute__strategy=median, rfc__criterion=gini, rfc__max_depth=3 \n",
      "[CV]  ct__num_tr__num_impute__strategy=median, rfc__criterion=gini, rfc__max_depth=3, total=   0.1s\n",
      "[CV] ct__num_tr__num_impute__strategy=median, rfc__criterion=gini, rfc__max_depth=3 \n",
      "[CV]  ct__num_tr__num_impute__strategy=median, rfc__criterion=gini, rfc__max_depth=3, total=   0.1s\n",
      "[CV] ct__num_tr__num_impute__strategy=median, rfc__criterion=gini, rfc__max_depth=3 \n",
      "[CV]  ct__num_tr__num_impute__strategy=median, rfc__criterion=gini, rfc__max_depth=3, total=   0.1s\n",
      "[CV] ct__num_tr__num_impute__strategy=median, rfc__criterion=gini, rfc__max_depth=3 \n",
      "[CV]  ct__num_tr__num_impute__strategy=median, rfc__criterion=gini, rfc__max_depth=3, total=   0.1s\n",
      "[CV] ct__num_tr__num_impute__strategy=median, rfc__criterion=gini, rfc__max_depth=5 \n",
      "[CV]  ct__num_tr__num_impute__strategy=median, rfc__criterion=gini, rfc__max_depth=5, total=   0.1s\n",
      "[CV] ct__num_tr__num_impute__strategy=median, rfc__criterion=gini, rfc__max_depth=5 \n",
      "[CV]  ct__num_tr__num_impute__strategy=median, rfc__criterion=gini, rfc__max_depth=5, total=   0.1s\n",
      "[CV] ct__num_tr__num_impute__strategy=median, rfc__criterion=gini, rfc__max_depth=5 \n",
      "[CV]  ct__num_tr__num_impute__strategy=median, rfc__criterion=gini, rfc__max_depth=5, total=   0.1s\n",
      "[CV] ct__num_tr__num_impute__strategy=median, rfc__criterion=gini, rfc__max_depth=5 \n",
      "[CV]  ct__num_tr__num_impute__strategy=median, rfc__criterion=gini, rfc__max_depth=5, total=   0.1s\n",
      "[CV] ct__num_tr__num_impute__strategy=median, rfc__criterion=gini, rfc__max_depth=5 \n",
      "[CV]  ct__num_tr__num_impute__strategy=median, rfc__criterion=gini, rfc__max_depth=5, total=   0.1s\n",
      "[CV] ct__num_tr__num_impute__strategy=median, rfc__criterion=gini, rfc__max_depth=5 \n",
      "[CV]  ct__num_tr__num_impute__strategy=median, rfc__criterion=gini, rfc__max_depth=5, total=   0.1s\n",
      "[CV] ct__num_tr__num_impute__strategy=median, rfc__criterion=gini, rfc__max_depth=5 \n",
      "[CV]  ct__num_tr__num_impute__strategy=median, rfc__criterion=gini, rfc__max_depth=5, total=   0.1s\n",
      "[CV] ct__num_tr__num_impute__strategy=median, rfc__criterion=gini, rfc__max_depth=5 \n",
      "[CV]  ct__num_tr__num_impute__strategy=median, rfc__criterion=gini, rfc__max_depth=5, total=   0.1s\n",
      "[CV] ct__num_tr__num_impute__strategy=median, rfc__criterion=gini, rfc__max_depth=5 \n",
      "[CV]  ct__num_tr__num_impute__strategy=median, rfc__criterion=gini, rfc__max_depth=5, total=   0.1s\n",
      "[CV] ct__num_tr__num_impute__strategy=median, rfc__criterion=gini, rfc__max_depth=5 \n",
      "[CV]  ct__num_tr__num_impute__strategy=median, rfc__criterion=gini, rfc__max_depth=5, total=   0.1s\n",
      "[CV] ct__num_tr__num_impute__strategy=median, rfc__criterion=entropy, rfc__max_depth=1 \n",
      "[CV]  ct__num_tr__num_impute__strategy=median, rfc__criterion=entropy, rfc__max_depth=1, total=   0.1s\n",
      "[CV] ct__num_tr__num_impute__strategy=median, rfc__criterion=entropy, rfc__max_depth=1 \n",
      "[CV]  ct__num_tr__num_impute__strategy=median, rfc__criterion=entropy, rfc__max_depth=1, total=   0.1s\n",
      "[CV] ct__num_tr__num_impute__strategy=median, rfc__criterion=entropy, rfc__max_depth=1 \n",
      "[CV]  ct__num_tr__num_impute__strategy=median, rfc__criterion=entropy, rfc__max_depth=1, total=   0.1s\n",
      "[CV] ct__num_tr__num_impute__strategy=median, rfc__criterion=entropy, rfc__max_depth=1 \n",
      "[CV]  ct__num_tr__num_impute__strategy=median, rfc__criterion=entropy, rfc__max_depth=1, total=   0.1s\n",
      "[CV] ct__num_tr__num_impute__strategy=median, rfc__criterion=entropy, rfc__max_depth=1 \n"
     ]
    },
    {
     "name": "stdout",
     "output_type": "stream",
     "text": [
      "[CV]  ct__num_tr__num_impute__strategy=median, rfc__criterion=entropy, rfc__max_depth=1, total=   0.1s\n",
      "[CV] ct__num_tr__num_impute__strategy=median, rfc__criterion=entropy, rfc__max_depth=1 \n",
      "[CV]  ct__num_tr__num_impute__strategy=median, rfc__criterion=entropy, rfc__max_depth=1, total=   0.1s\n",
      "[CV] ct__num_tr__num_impute__strategy=median, rfc__criterion=entropy, rfc__max_depth=1 \n",
      "[CV]  ct__num_tr__num_impute__strategy=median, rfc__criterion=entropy, rfc__max_depth=1, total=   0.1s\n",
      "[CV] ct__num_tr__num_impute__strategy=median, rfc__criterion=entropy, rfc__max_depth=1 \n",
      "[CV]  ct__num_tr__num_impute__strategy=median, rfc__criterion=entropy, rfc__max_depth=1, total=   0.1s\n",
      "[CV] ct__num_tr__num_impute__strategy=median, rfc__criterion=entropy, rfc__max_depth=1 \n",
      "[CV]  ct__num_tr__num_impute__strategy=median, rfc__criterion=entropy, rfc__max_depth=1, total=   0.1s\n",
      "[CV] ct__num_tr__num_impute__strategy=median, rfc__criterion=entropy, rfc__max_depth=1 \n",
      "[CV]  ct__num_tr__num_impute__strategy=median, rfc__criterion=entropy, rfc__max_depth=1, total=   0.1s\n",
      "[CV] ct__num_tr__num_impute__strategy=median, rfc__criterion=entropy, rfc__max_depth=3 \n",
      "[CV]  ct__num_tr__num_impute__strategy=median, rfc__criterion=entropy, rfc__max_depth=3, total=   0.1s\n",
      "[CV] ct__num_tr__num_impute__strategy=median, rfc__criterion=entropy, rfc__max_depth=3 \n",
      "[CV]  ct__num_tr__num_impute__strategy=median, rfc__criterion=entropy, rfc__max_depth=3, total=   0.1s\n",
      "[CV] ct__num_tr__num_impute__strategy=median, rfc__criterion=entropy, rfc__max_depth=3 \n",
      "[CV]  ct__num_tr__num_impute__strategy=median, rfc__criterion=entropy, rfc__max_depth=3, total=   0.1s\n",
      "[CV] ct__num_tr__num_impute__strategy=median, rfc__criterion=entropy, rfc__max_depth=3 \n",
      "[CV]  ct__num_tr__num_impute__strategy=median, rfc__criterion=entropy, rfc__max_depth=3, total=   0.1s\n",
      "[CV] ct__num_tr__num_impute__strategy=median, rfc__criterion=entropy, rfc__max_depth=3 \n",
      "[CV]  ct__num_tr__num_impute__strategy=median, rfc__criterion=entropy, rfc__max_depth=3, total=   0.1s\n",
      "[CV] ct__num_tr__num_impute__strategy=median, rfc__criterion=entropy, rfc__max_depth=3 \n",
      "[CV]  ct__num_tr__num_impute__strategy=median, rfc__criterion=entropy, rfc__max_depth=3, total=   0.1s\n",
      "[CV] ct__num_tr__num_impute__strategy=median, rfc__criterion=entropy, rfc__max_depth=3 \n",
      "[CV]  ct__num_tr__num_impute__strategy=median, rfc__criterion=entropy, rfc__max_depth=3, total=   0.1s\n",
      "[CV] ct__num_tr__num_impute__strategy=median, rfc__criterion=entropy, rfc__max_depth=3 \n",
      "[CV]  ct__num_tr__num_impute__strategy=median, rfc__criterion=entropy, rfc__max_depth=3, total=   0.1s\n",
      "[CV] ct__num_tr__num_impute__strategy=median, rfc__criterion=entropy, rfc__max_depth=3 \n",
      "[CV]  ct__num_tr__num_impute__strategy=median, rfc__criterion=entropy, rfc__max_depth=3, total=   0.1s\n",
      "[CV] ct__num_tr__num_impute__strategy=median, rfc__criterion=entropy, rfc__max_depth=3 \n",
      "[CV]  ct__num_tr__num_impute__strategy=median, rfc__criterion=entropy, rfc__max_depth=3, total=   0.1s\n",
      "[CV] ct__num_tr__num_impute__strategy=median, rfc__criterion=entropy, rfc__max_depth=5 \n",
      "[CV]  ct__num_tr__num_impute__strategy=median, rfc__criterion=entropy, rfc__max_depth=5, total=   0.1s\n",
      "[CV] ct__num_tr__num_impute__strategy=median, rfc__criterion=entropy, rfc__max_depth=5 \n",
      "[CV]  ct__num_tr__num_impute__strategy=median, rfc__criterion=entropy, rfc__max_depth=5, total=   0.1s\n",
      "[CV] ct__num_tr__num_impute__strategy=median, rfc__criterion=entropy, rfc__max_depth=5 \n",
      "[CV]  ct__num_tr__num_impute__strategy=median, rfc__criterion=entropy, rfc__max_depth=5, total=   0.1s\n",
      "[CV] ct__num_tr__num_impute__strategy=median, rfc__criterion=entropy, rfc__max_depth=5 \n",
      "[CV]  ct__num_tr__num_impute__strategy=median, rfc__criterion=entropy, rfc__max_depth=5, total=   0.1s\n",
      "[CV] ct__num_tr__num_impute__strategy=median, rfc__criterion=entropy, rfc__max_depth=5 \n",
      "[CV]  ct__num_tr__num_impute__strategy=median, rfc__criterion=entropy, rfc__max_depth=5, total=   0.1s\n",
      "[CV] ct__num_tr__num_impute__strategy=median, rfc__criterion=entropy, rfc__max_depth=5 \n",
      "[CV]  ct__num_tr__num_impute__strategy=median, rfc__criterion=entropy, rfc__max_depth=5, total=   0.1s\n",
      "[CV] ct__num_tr__num_impute__strategy=median, rfc__criterion=entropy, rfc__max_depth=5 \n",
      "[CV]  ct__num_tr__num_impute__strategy=median, rfc__criterion=entropy, rfc__max_depth=5, total=   0.1s\n",
      "[CV] ct__num_tr__num_impute__strategy=median, rfc__criterion=entropy, rfc__max_depth=5 \n",
      "[CV]  ct__num_tr__num_impute__strategy=median, rfc__criterion=entropy, rfc__max_depth=5, total=   0.1s\n",
      "[CV] ct__num_tr__num_impute__strategy=median, rfc__criterion=entropy, rfc__max_depth=5 \n",
      "[CV]  ct__num_tr__num_impute__strategy=median, rfc__criterion=entropy, rfc__max_depth=5, total=   0.1s\n",
      "[CV] ct__num_tr__num_impute__strategy=median, rfc__criterion=entropy, rfc__max_depth=5 \n",
      "[CV]  ct__num_tr__num_impute__strategy=median, rfc__criterion=entropy, rfc__max_depth=5, total=   0.1s\n"
     ]
    },
    {
     "name": "stderr",
     "output_type": "stream",
     "text": [
      "[Parallel(n_jobs=1)]: Done 120 out of 120 | elapsed:   11.7s finished\n"
     ]
    },
    {
     "data": {
      "text/plain": [
       "GridSearchCV(cv=10,\n",
       "             estimator=Pipeline(steps=[('ct',\n",
       "                                        ColumnTransformer(remainder='passthrough',\n",
       "                                                          transformers=[('num_tr',\n",
       "                                                                         Pipeline(steps=[('num_impute',\n",
       "                                                                                          SimpleImputer()),\n",
       "                                                                                         ('ss',\n",
       "                                                                                          StandardScaler())]),\n",
       "                                                                         <sklearn.compose._column_transformer.make_column_selector object at 0x7fc098521700>),\n",
       "                                                                        ('cat_tr',\n",
       "                                                                         Pipeline(steps=[('cat_impute',\n",
       "                                                                                          SimpleImputer(strategy='most_frequent')),\n",
       "                                                                                         ('ohe',\n",
       "                                                                                          OneHotEncoder(handle_unknown='ignore',\n",
       "                                                                                                        sparse=False))]),\n",
       "                                                                         <sklearn.compose._column_transformer.make_column_selector object at 0x7fc098521f40>)])),\n",
       "                                       ('rfc',\n",
       "                                        RandomForestClassifier(random_state=42))]),\n",
       "             param_grid={'ct__num_tr__num_impute__strategy': ['mean', 'median'],\n",
       "                         'rfc__criterion': ['gini', 'entropy'],\n",
       "                         'rfc__max_depth': [1, 3, 5]},\n",
       "             verbose=2)"
      ]
     },
     "execution_count": 58,
     "metadata": {},
     "output_type": "execute_result"
    }
   ],
   "source": [
    "gs.fit(X_train, y_train)"
   ]
  },
  {
   "cell_type": "code",
   "execution_count": 59,
   "metadata": {
    "scrolled": false
   },
   "outputs": [
    {
     "data": {
      "text/plain": [
       "Pipeline(steps=[('ct',\n",
       "                 ColumnTransformer(remainder='passthrough',\n",
       "                                   transformers=[('num_tr',\n",
       "                                                  Pipeline(steps=[('num_impute',\n",
       "                                                                   SimpleImputer()),\n",
       "                                                                  ('ss',\n",
       "                                                                   StandardScaler())]),\n",
       "                                                  <sklearn.compose._column_transformer.make_column_selector object at 0x7fc079ffbe20>),\n",
       "                                                 ('cat_tr',\n",
       "                                                  Pipeline(steps=[('cat_impute',\n",
       "                                                                   SimpleImputer(strategy='most_frequent')),\n",
       "                                                                  ('ohe',\n",
       "                                                                   OneHotEncoder(handle_unknown='ignore',\n",
       "                                                                                 sparse=False))]),\n",
       "                                                  <sklearn.compose._column_transformer.make_column_selector object at 0x7fc079ffb8e0>)])),\n",
       "                ('rfc',\n",
       "                 RandomForestClassifier(criterion='entropy', max_depth=5,\n",
       "                                        random_state=42))])"
      ]
     },
     "execution_count": 59,
     "metadata": {},
     "output_type": "execute_result"
    }
   ],
   "source": [
    "gs.best_estimator_"
   ]
  },
  {
   "cell_type": "code",
   "execution_count": 60,
   "metadata": {},
   "outputs": [
    {
     "data": {
      "text/plain": [
       "{'ct__num_tr__num_impute__strategy': 'mean',\n",
       " 'rfc__criterion': 'entropy',\n",
       " 'rfc__max_depth': 5}"
      ]
     },
     "execution_count": 60,
     "metadata": {},
     "output_type": "execute_result"
    }
   ],
   "source": [
    "gs.best_params_"
   ]
  },
  {
   "cell_type": "code",
   "execution_count": 61,
   "metadata": {},
   "outputs": [
    {
     "data": {
      "text/plain": [
       "0.7724332881049298"
      ]
     },
     "execution_count": 61,
     "metadata": {},
     "output_type": "execute_result"
    }
   ],
   "source": [
    "gs.best_score_"
   ]
  },
  {
   "cell_type": "code",
   "execution_count": 62,
   "metadata": {},
   "outputs": [
    {
     "data": {
      "text/plain": [
       "0.757847533632287"
      ]
     },
     "execution_count": 62,
     "metadata": {},
     "output_type": "execute_result"
    }
   ],
   "source": [
    "gs.best_estimator_.score(X_test, y_test)"
   ]
  },
  {
   "cell_type": "code",
   "execution_count": 64,
   "metadata": {},
   "outputs": [],
   "source": [
    "params2 = {\n",
    "    'rfc__criterion':['entropy'],\n",
    "    'rfc__max_depth':[5,7,9,11]\n",
    "}"
   ]
  },
  {
   "cell_type": "code",
   "execution_count": 65,
   "metadata": {},
   "outputs": [],
   "source": [
    "gs = GridSearchCV(estimator=rfc_model_pipe, param_grid=params2, cv=10, verbose=1)"
   ]
  },
  {
   "cell_type": "code",
   "execution_count": 66,
   "metadata": {},
   "outputs": [
    {
     "name": "stdout",
     "output_type": "stream",
     "text": [
      "Fitting 10 folds for each of 4 candidates, totalling 40 fits\n"
     ]
    },
    {
     "name": "stderr",
     "output_type": "stream",
     "text": [
      "[Parallel(n_jobs=1)]: Using backend SequentialBackend with 1 concurrent workers.\n",
      "[Parallel(n_jobs=1)]: Done  40 out of  40 | elapsed:    4.4s finished\n"
     ]
    },
    {
     "data": {
      "text/plain": [
       "GridSearchCV(cv=10,\n",
       "             estimator=Pipeline(steps=[('ct',\n",
       "                                        ColumnTransformer(remainder='passthrough',\n",
       "                                                          transformers=[('num_tr',\n",
       "                                                                         Pipeline(steps=[('num_impute',\n",
       "                                                                                          SimpleImputer()),\n",
       "                                                                                         ('ss',\n",
       "                                                                                          StandardScaler())]),\n",
       "                                                                         <sklearn.compose._column_transformer.make_column_selector object at 0x7fc098521700>),\n",
       "                                                                        ('cat_tr',\n",
       "                                                                         Pipeline(steps=[('cat_impute',\n",
       "                                                                                          SimpleImputer(strategy='most_frequent')),\n",
       "                                                                                         ('ohe',\n",
       "                                                                                          OneHotEncoder(handle_unknown='ignore',\n",
       "                                                                                                        sparse=False))]),\n",
       "                                                                         <sklearn.compose._column_transformer.make_column_selector object at 0x7fc098521f40>)])),\n",
       "                                       ('rfc',\n",
       "                                        RandomForestClassifier(random_state=42))]),\n",
       "             param_grid={'rfc__criterion': ['entropy'],\n",
       "                         'rfc__max_depth': [5, 7, 9, 11]},\n",
       "             verbose=1)"
      ]
     },
     "execution_count": 66,
     "metadata": {},
     "output_type": "execute_result"
    }
   ],
   "source": [
    "gs.fit(X_train, y_train)"
   ]
  },
  {
   "cell_type": "code",
   "execution_count": 68,
   "metadata": {},
   "outputs": [
    {
     "data": {
      "text/plain": [
       "{'rfc__criterion': 'entropy', 'rfc__max_depth': 11}"
      ]
     },
     "execution_count": 68,
     "metadata": {},
     "output_type": "execute_result"
    }
   ],
   "source": [
    "gs.best_params_"
   ]
  },
  {
   "cell_type": "code",
   "execution_count": null,
   "metadata": {},
   "outputs": [],
   "source": [
    "# Can show this iteration as \"Grid Search returned these results, \n",
    "# so these were the final parameters \"\n",
    "# can say the # of iterations we went through \n",
    "\n",
    "# See Youtube video @ 13 min after break "
   ]
  },
  {
   "cell_type": "code",
   "execution_count": 69,
   "metadata": {},
   "outputs": [
    {
     "data": {
      "text/plain": [
       "0.8129127091813659"
      ]
     },
     "execution_count": 69,
     "metadata": {},
     "output_type": "execute_result"
    }
   ],
   "source": [
    "gs.best_score_\n",
    "\n",
    "# Mean test score for each of six models"
   ]
  },
  {
   "cell_type": "markdown",
   "metadata": {},
   "source": [
    "## `imblearn` Pipelines\n",
    "\n",
    "### Dealing with the Target Imbalance"
   ]
  },
  {
   "cell_type": "markdown",
   "metadata": {},
   "source": [
    "Let's use `SMOTE()`:"
   ]
  },
  {
   "cell_type": "code",
   "execution_count": 71,
   "metadata": {},
   "outputs": [
    {
     "data": {
      "text/plain": [
       "0    0.621257\n",
       "1    0.378743\n",
       "Name: Survived, dtype: float64"
      ]
     },
     "execution_count": 71,
     "metadata": {},
     "output_type": "execute_result"
    }
   ],
   "source": [
    "y_train.value_counts(normalize=True)"
   ]
  },
  {
   "cell_type": "code",
   "execution_count": 72,
   "metadata": {},
   "outputs": [],
   "source": [
    "sm = SMOTE(sampling_strategy='auto', random_state=42)"
   ]
  },
  {
   "cell_type": "code",
   "execution_count": 73,
   "metadata": {},
   "outputs": [],
   "source": [
    "sm2 = SMOTE(sampling_strategy=0.8, random_state=42)"
   ]
  },
  {
   "cell_type": "markdown",
   "metadata": {},
   "source": [
    "To make things simple (and avoid errors!), let's just grab the numeric types and eliminate the NaNs from X_train:"
   ]
  },
  {
   "cell_type": "code",
   "execution_count": 74,
   "metadata": {},
   "outputs": [],
   "source": [
    "X_train_clean = X_train.select_dtypes(['float', 'int']).dropna()\n",
    "y_train_clean = y_train[X_train_clean.index]"
   ]
  },
  {
   "cell_type": "code",
   "execution_count": 75,
   "metadata": {},
   "outputs": [
    {
     "data": {
      "text/plain": [
       "0    317\n",
       "1    219\n",
       "Name: Survived, dtype: int64"
      ]
     },
     "execution_count": 75,
     "metadata": {},
     "output_type": "execute_result"
    }
   ],
   "source": [
    "y_train_clean.value_counts()"
   ]
  },
  {
   "cell_type": "code",
   "execution_count": 77,
   "metadata": {},
   "outputs": [
    {
     "data": {
      "text/plain": [
       "1    317\n",
       "0    317\n",
       "Name: Survived, dtype: int64"
      ]
     },
     "execution_count": 77,
     "metadata": {},
     "output_type": "execute_result"
    }
   ],
   "source": [
    "# Even distribution\n",
    "\n",
    "X_clean_resmp, y_clean_resmp = sm.fit_resample(X_train_clean, y_train_clean)\n",
    "\n",
    "y_clean_resmp.value_counts()"
   ]
  },
  {
   "cell_type": "code",
   "execution_count": 78,
   "metadata": {},
   "outputs": [
    {
     "data": {
      "text/plain": [
       "0    317\n",
       "1    253\n",
       "Name: Survived, dtype: int64"
      ]
     },
     "execution_count": 78,
     "metadata": {},
     "output_type": "execute_result"
    }
   ],
   "source": [
    "# Distribution where count of 1's = 0.8 * count of 0's\n",
    "\n",
    "X_clean_resmp2, y_clean_resmp2 = sm2.fit_resample(X_train_clean, y_train_clean)\n",
    "\n",
    "y_clean_resmp2.value_counts()"
   ]
  },
  {
   "cell_type": "markdown",
   "metadata": {},
   "source": [
    "### `imblearn` Pipeline"
   ]
  },
  {
   "cell_type": "markdown",
   "metadata": {},
   "source": [
    "Of course, we want to be able to perform all of our preprocessing steps from above, but just now add `SMOTE`. Good thing we can throw it all into a pipeline!"
   ]
  },
  {
   "cell_type": "code",
   "execution_count": 80,
   "metadata": {},
   "outputs": [],
   "source": [
    "# imbpipe!\n",
    "\n",
    "imb_pipe = ImPipeline(steps=[\n",
    "    ('CT', CT),\n",
    "    ('sm', SMOTE(random_state=42)),\n",
    "    ('rfc', RandomForestClassifier(random_state=42))\n",
    "])"
   ]
  },
  {
   "cell_type": "code",
   "execution_count": 81,
   "metadata": {},
   "outputs": [
    {
     "data": {
      "text/plain": [
       "Pipeline(steps=[('CT',\n",
       "                 ColumnTransformer(remainder='passthrough',\n",
       "                                   transformers=[('num_tr',\n",
       "                                                  Pipeline(steps=[('num_impute',\n",
       "                                                                   SimpleImputer()),\n",
       "                                                                  ('ss',\n",
       "                                                                   StandardScaler())]),\n",
       "                                                  <sklearn.compose._column_transformer.make_column_selector object at 0x7fc098521700>),\n",
       "                                                 ('cat_tr',\n",
       "                                                  Pipeline(steps=[('cat_impute',\n",
       "                                                                   SimpleImputer(strategy='most_frequent')),\n",
       "                                                                  ('ohe',\n",
       "                                                                   OneHotEncoder(handle_unknown='ignore',\n",
       "                                                                                 sparse=False))]),\n",
       "                                                  <sklearn.compose._column_transformer.make_column_selector object at 0x7fc098521f40>)])),\n",
       "                ('sm', SMOTE(random_state=42)),\n",
       "                ('rfc', RandomForestClassifier(random_state=42))])"
      ]
     },
     "execution_count": 81,
     "metadata": {},
     "output_type": "execute_result"
    }
   ],
   "source": [
    "imb_pipe.fit(X_train, y_train)"
   ]
  },
  {
   "cell_type": "code",
   "execution_count": 82,
   "metadata": {},
   "outputs": [
    {
     "data": {
      "text/plain": [
       "0.9985029940119761"
      ]
     },
     "execution_count": 82,
     "metadata": {},
     "output_type": "execute_result"
    }
   ],
   "source": [
    "imb_pipe.score(X_train, y_train)"
   ]
  },
  {
   "cell_type": "code",
   "execution_count": 83,
   "metadata": {},
   "outputs": [
    {
     "data": {
      "text/plain": [
       "0.8116591928251121"
      ]
     },
     "execution_count": 83,
     "metadata": {},
     "output_type": "execute_result"
    }
   ],
   "source": [
    "imb_pipe.score(X_test, y_test)"
   ]
  },
  {
   "cell_type": "markdown",
   "metadata": {},
   "source": [
    "### Gridsearching"
   ]
  },
  {
   "cell_type": "code",
   "execution_count": 85,
   "metadata": {},
   "outputs": [],
   "source": [
    "# Seriously? Again?\n",
    "\n",
    "params = {\n",
    "    'rfc__criterion':['gini','entropy'],\n",
    "    'rfc__min_samples_leaf':[1,5,10],\n",
    "    'sm__k_neighbors':[3,5,9]\n",
    "}\n",
    "\n",
    "gs = GridSearchCV(estimator=imb_pipe, param_grid=params)\n",
    "\n",
    "#SMOTE has to be used with the IMB Pipeline"
   ]
  },
  {
   "cell_type": "code",
   "execution_count": 87,
   "metadata": {},
   "outputs": [
    {
     "ename": "AttributeError",
     "evalue": "'GridSearchCV' object has no attribute 'best_params_'",
     "output_type": "error",
     "traceback": [
      "\u001b[0;31m---------------------------------------------------------------------------\u001b[0m",
      "\u001b[0;31mAttributeError\u001b[0m                            Traceback (most recent call last)",
      "\u001b[0;32m<ipython-input-87-df2c2bd0f67e>\u001b[0m in \u001b[0;36m<module>\u001b[0;34m\u001b[0m\n\u001b[0;32m----> 1\u001b[0;31m \u001b[0mgs\u001b[0m\u001b[0;34m.\u001b[0m\u001b[0mbest_params_\u001b[0m\u001b[0;34m\u001b[0m\u001b[0;34m\u001b[0m\u001b[0m\n\u001b[0m",
      "\u001b[0;31mAttributeError\u001b[0m: 'GridSearchCV' object has no attribute 'best_params_'"
     ]
    }
   ],
   "source": [
    "gs.best_params_"
   ]
  },
  {
   "cell_type": "markdown",
   "metadata": {},
   "source": [
    "## Evaluation on Test Set"
   ]
  },
  {
   "cell_type": "markdown",
   "metadata": {},
   "source": [
    "Let's suppose that we choose our final model from this last GridSearch run. Note that the optimal parameters are also the default values!"
   ]
  },
  {
   "cell_type": "code",
   "execution_count": 95,
   "metadata": {},
   "outputs": [],
   "source": [
    "final_model = imb_pipe"
   ]
  },
  {
   "cell_type": "code",
   "execution_count": 98,
   "metadata": {
    "scrolled": false
   },
   "outputs": [
    {
     "data": {
      "image/png": "[encoded data removed]",
      "text/plain": [
       "<Figure size 432x288 with 2 Axes>"
      ]
     },
     "metadata": {
      "needs_background": "light"
     },
     "output_type": "display_data"
    }
   ],
   "source": [
    "plot_confusion_matrix(final_model, X_train, y_train);"
   ]
  },
  {
   "cell_type": "code",
   "execution_count": 99,
   "metadata": {},
   "outputs": [
    {
     "name": "stdout",
     "output_type": "stream",
     "text": [
      "\n",
      "Our final model's accuracy on the test set is 1.0. \n",
      "\n",
      "Our final model's recall on the test set is 1.0 \n",
      "\n",
      "Our final model's precision on the test set is 1.0 \n",
      "\n",
      "Our final model's f1-score on the test is 1.0.\n",
      "\n"
     ]
    }
   ],
   "source": [
    "print(f\"\"\"\n",
    "Our final model's accuracy on the test set is {round(accuracy_score(y_train, y_hat_train), 2)}. \\n\n",
    "Our final model's recall on the test set is {round(recall_score(y_train, y_hat_train), 2)} \\n\n",
    "Our final model's precision on the test set is {round(precision_score(y_train, y_hat_train), 2)} \\n\n",
    "Our final model's f1-score on the test is {round(f1_score(y_train, y_hat_train), 2)}.\n",
    "\"\"\")"
   ]
  },
  {
   "cell_type": "code",
   "execution_count": 93,
   "metadata": {},
   "outputs": [],
   "source": [
    "y_hat_train = final_model.predict(X_train)"
   ]
  },
  {
   "cell_type": "code",
   "execution_count": 89,
   "metadata": {},
   "outputs": [
    {
     "data": {
      "image/png": "[encoded data removed]",
      "text/plain": [
       "<Figure size 432x288 with 2 Axes>"
      ]
     },
     "metadata": {
      "needs_background": "light"
     },
     "output_type": "display_data"
    }
   ],
   "source": [
    "plot_confusion_matrix(final_model, X_test, y_test);"
   ]
  },
  {
   "cell_type": "code",
   "execution_count": 90,
   "metadata": {},
   "outputs": [],
   "source": [
    "y_hat = final_model.predict(X_test)"
   ]
  },
  {
   "cell_type": "code",
   "execution_count": 91,
   "metadata": {},
   "outputs": [
    {
     "name": "stdout",
     "output_type": "stream",
     "text": [
      "\n",
      "Our final model's accuracy on the test set is 0.81. \n",
      "\n",
      "Our final model's recall on the test set is 0.72 \n",
      "\n",
      "Our final model's precision on the test set is 0.79 \n",
      "\n",
      "Our final model's f1-score on the test is 0.75.\n",
      "\n"
     ]
    }
   ],
   "source": [
    "print(f\"\"\"\n",
    "Our final model's accuracy on the test set is {round(accuracy_score(y_test, y_hat), 2)}. \\n\n",
    "Our final model's recall on the test set is {round(recall_score(y_test, y_hat), 2)} \\n\n",
    "Our final model's precision on the test set is {round(precision_score(y_test, y_hat), 2)} \\n\n",
    "Our final model's f1-score on the test is {round(f1_score(y_test, y_hat), 2)}.\n",
    "\"\"\")"
   ]
  },
  {
   "cell_type": "markdown",
   "metadata": {},
   "source": [
    "## Exercise: Your Turn!"
   ]
  },
  {
   "cell_type": "markdown",
   "metadata": {},
   "source": [
    "Use SMOTE and an estimator (model) of your choice in a pipeline to model the exoplanets' method of discovery (\"method\"). You can build a model one feature at a time or just throw them all in from the beginning. Consider using the LabelEncoder (from sklearn.preprocessing) to code up the target. You'll also need to make a choice about how to handle the null values."
   ]
  },
  {
   "cell_type": "code",
   "execution_count": null,
   "metadata": {},
   "outputs": [],
   "source": [
    "exos = sns.load_dataset('planets')"
   ]
  },
  {
   "cell_type": "code",
   "execution_count": null,
   "metadata": {},
   "outputs": [],
   "source": [
    "### Your work here\n",
    "\n",
    "\n",
    "\n",
    "\n",
    "\n",
    "\n"
   ]
  },
  {
   "cell_type": "code",
   "execution_count": null,
   "metadata": {},
   "outputs": [],
   "source": []
  }
 ],
 "metadata": {
  "kernelspec": {
   "display_name": "Python (learn-env)",
   "language": "python",
   "name": "learn-env"
  },
  "language_info": {
   "codemirror_mode": {
    "name": "ipython",
    "version": 3
   },
   "file_extension": ".py",
   "mimetype": "text/x-python",
   "name": "python",
   "nbconvert_exporter": "python",
   "pygments_lexer": "ipython3",
   "version": "3.8.5"
  },
  "toc": {
   "base_numbering": 1,
   "nav_menu": {},
   "number_sections": true,
   "sideBar": true,
   "skip_h1_title": false,
   "title_cell": "Table of Contents",
   "title_sidebar": "Contents",
   "toc_cell": false,
   "toc_position": {},
   "toc_section_display": true,
   "toc_window_display": false
  },
  "varInspector": {
   "cols": {
    "lenName": 16,
    "lenType": 16,
    "lenVar": 40
   },
   "kernels_config": {
    "python": {
     "delete_cmd_postfix": "",
     "delete_cmd_prefix": "del ",
     "library": "var_list.py",
     "varRefreshCmd": "print(var_dic_list())"
    },
    "r": {
     "delete_cmd_postfix": ") ",
     "delete_cmd_prefix": "rm(",
     "library": "var_list.r",
     "varRefreshCmd": "cat(var_dic_list()) "
    }
   },
   "types_to_exclude": [
    "module",
    "function",
    "builtin_function_or_method",
    "instance",
    "_Feature"
   ],
   "window_display": true
  }
 },
 "nbformat": 4,
 "nbformat_minor": 4
}
